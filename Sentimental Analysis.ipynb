{
 "cells": [
  {
   "cell_type": "markdown",
   "metadata": {},
   "source": [
    "## IMPORTING REQUIRED LIBRARIES"
   ]
  },
  {
   "cell_type": "code",
   "execution_count": null,
   "metadata": {
    "id": "xDJti8a-n84k"
   },
   "outputs": [],
   "source": [
    "import pandas as pd\n",
    "import numpy as np\n",
    "import re\n",
    "import nltk\n",
    "from nltk.corpus import stopwords\n",
    "from nltk.tokenize import word_tokenize\n",
    "from keras.preprocessing.text import Tokenizer\n",
    "from tensorflow.keras.preprocessing.sequence import pad_sequences\n",
    "from keras.models import Sequential\n",
    "from keras.layers import Embedding, Conv1D, MaxPooling1D, Flatten, Dense\n",
    "from sklearn.model_selection import train_test_split\n",
    "from sklearn.preprocessing import LabelEncoder\n",
    "from sklearn.metrics import accuracy_score, recall_score, precision_score, f1_score"
   ]
  },
  {
   "cell_type": "markdown",
   "metadata": {},
   "source": [
    "## LOADING THE DATASET"
   ]
  },
  {
   "cell_type": "code",
   "execution_count": null,
   "metadata": {
    "colab": {
     "base_uri": "https://localhost:8080/"
    },
    "id": "UVQecms1oJe_",
    "outputId": "9a613f6d-0a38-4bf0-d619-2232adaeaf84"
   },
   "outputs": [
    {
     "data": {
      "text/plain": [
       "[['https://play-lh.googleusercontent.com/-2Zyc1Oz-mys/AAAAAAAAAAI/AAAAAAAAAAA/AMZuucmNttE5TrkCrUuRraul5uIVUVSsTg/photo.jpg',\n",
       "  'Unable to use it as it won\\'t work with my Google calendar. Tech support is horrible - \"Tali\" keeps asking for a screenshot of the native calendar she thinks came with the phone. It\\'s a Motorola Edge that is all stock Android, thus Google calendar. They don\\'t get it, and refuse to escalate my request for help to a higher level. EDIT: Now your team has a copy of the chat from Motorola explaining that there is no \"native\" calendar app other than Google. Since you know my case in this review area, your tech dept must be tiny. I really wanted to like this app, but it\\'s very buggy with the Google calendar app it\\'s advertised to work so well with.',\n",
       "  1,\n",
       "  13,\n",
       "  '5.7.0.20',\n",
       "  \"As our team explained profusely, we sync data from the device's native calendar, and not directly from Google. We have worked with many Motorola users in the past, and had no issue with receiving the relevant screenshots from the native calendar app. Once you are able to provide the same, we will do our best to resolve this issue for you asap!\",\n",
       "  'most_relevant'],\n",
       " ['https://play-lh.googleusercontent.com/a-/AOh14GhDGgEFeGRywUYWhWKfp0zbYzTXvNa_5meXubf_Kfg',\n",
       "  \"I downloaded this because of the cross platform syncing. I only purchase apps after learning the free version. I see the potential but will delete because: 1) constant advertising the premium version - which is keeping me from being productive - which is counter productive 2) It seems on desktop version that I don't have a choice on calendar to see day, 3 days, week, month 3) and again the pop up for premium Anyway. On to the next planner app.\",\n",
       "  1,\n",
       "  81,\n",
       "  '5.7.0.20',\n",
       "  \"The Premium ad only shows up when first opening the app, and when clicking on a Premium feature. You can opt out by clicking on 'No, Thanks' on the ad. The Calendar view on the desktop app, currently supports the Agenda view, though, we are currently working on adding further functionality to the desktop calendars, so keep an eye out for updates :)\",\n",
       "  'most_relevant'],\n",
       " ['https://play-lh.googleusercontent.com/a-/AOh14Gi04uZr3dqi4yazx3yYnwyUwNYFiFzAMxCpvuRV8O0',\n",
       "  'I am starting to hate this app! Every time they update, I start to have the exact same problem; I cannot edit/delete any of my events through any.do app. When I contact them about the issue, they just suggested me to check&uncheck my calendars and it was not helpful at all (even though I believe they really tried to help)! The problem went away magically at the first time but after an update, it came back now. Ugh, so annoying!',\n",
       "  1,\n",
       "  67,\n",
       "  '5.7.0.10',\n",
       "  \"Hi, please note that these issues usually are a result of a calendar that wasn't synced properly, and therefore we suggest to uncheck it and then re-check it again. That said, we're unaware of any issues with the calendars, so that sounds odd. Please send us a bug report via your app Settings - Support, so we can get to the bottom of this.\",\n",
       "  'most_relevant'],\n",
       " ['https://play-lh.googleusercontent.com/-97UNn5DTw1s/AAAAAAAAAAI/AAAAAAAAAAA/AMZuuckyV370cHgdk2ydVqAcMBqefx0LuA/photo.jpg',\n",
       "  'Liked Any.do at first, enough that I even signed up for premium so I could schedule reoccurring tasks. However, I soon learned that it doesn\\'t interface with Google Calendars the way that it claims. Instead, you have to sign up for a 3rd party service called Zapier. The link never worked right. Anything I scheduled in Any.do would stay there and not sync. Initially my purchase receipt said \"cancel anytime,\" but now they won\\'t refund the 10 months of service I haven\\'t used. Left a bitter taste.',\n",
       "  1,\n",
       "  102,\n",
       "  '5.7.0.10',\n",
       "  'Please note that Any.do integrates directly with Google Calendar, and you can sync your calendar per the instructions on our Help Center here- support.any.do/calendar-setup. From checking our records, we can see that you have an ongoing ticket with our Support team, that is currently pending your reply. We are happy to help with any questions :)',\n",
       "  'most_relevant'],\n",
       " ['https://play-lh.googleusercontent.com/a-/AOh14Gi83VJPpToq-_Nu0aKriLO0bSzbVq2XQC-w1zPQldc',\n",
       "  \"They made me sign up for premium just to have recurring alerts, then don't even have a hourly option. I got this app because it showed up during my search. I want a tasks that reminds me multiple times a day.\",\n",
       "  1,\n",
       "  2,\n",
       "  '5.7.0.20',\n",
       "  'We never require users to upgrade, as 90% of the app is completely free, including the Recurring Reminders, as well as all core functionality. Please note that our Product team has already started working on implementing hourly reminders, and you are welcome to add your vote and receive updates on our UserVoice forum, here: bit.ly/35gv0ED.',\n",
       "  'most_relevant']]"
      ]
     },
     "execution_count": 3,
     "metadata": {},
     "output_type": "execute_result"
    }
   ],
   "source": [
    "data = pd.read_csv(\"reviews1.csv\")\n",
    "data = data.drop([data.columns[0]], axis=1)\n",
    "data.values[:5].tolist()"
   ]
  },
  {
   "cell_type": "code",
   "execution_count": null,
   "metadata": {
    "colab": {
     "base_uri": "https://localhost:8080/"
    },
    "id": "qiz8TFiwoOqp",
    "outputId": "8bb80002-14da-4d92-b6d5-f8db24251894"
   },
   "outputs": [
    {
     "name": "stdout",
     "output_type": "stream",
     "text": [
      "Duplicated values:  1\n",
      "<class 'pandas.core.frame.DataFrame'>\n",
      "Int64Index: 7042 entries, 0 to 16116\n",
      "Data columns (total 7 columns):\n",
      " #   Column                Non-Null Count  Dtype \n",
      "---  ------                --------------  ----- \n",
      " 0   userImage             7042 non-null   object\n",
      " 1   content               7042 non-null   object\n",
      " 2   score                 7042 non-null   int64 \n",
      " 3   thumbsUpCount         7042 non-null   int64 \n",
      " 4   reviewCreatedVersion  7042 non-null   object\n",
      " 5   replyContent          7042 non-null   object\n",
      " 6   sortOrder             7042 non-null   object\n",
      "dtypes: int64(2), object(5)\n",
      "memory usage: 440.1+ KB\n",
      "None\n"
     ]
    }
   ],
   "source": [
    "print(\"Duplicated values: \" , data.duplicated().sum())\n",
    "\n",
    "data.drop_duplicates(inplace=True)\n",
    "data = data.dropna(axis=0)\n",
    "print(data.info())"
   ]
  },
  {
   "cell_type": "markdown",
   "metadata": {},
   "source": [
    "## CLEANING THE DATASET"
   ]
  },
  {
   "cell_type": "code",
   "execution_count": null,
   "metadata": {
    "colab": {
     "base_uri": "https://localhost:8080/",
     "height": 694
    },
    "id": "1I_VcQbooTpu",
    "outputId": "0d788fc3-43b9-4ae7-c5c9-9fd2eaa5b75b"
   },
   "outputs": [
    {
     "name": "stderr",
     "output_type": "stream",
     "text": [
      "[nltk_data] Downloading package wordnet to /root/nltk_data...\n",
      "[nltk_data] Downloading package punkt to /root/nltk_data...\n",
      "[nltk_data]   Unzipping tokenizers/punkt.zip.\n",
      "[nltk_data] Downloading package stopwords to /root/nltk_data...\n",
      "[nltk_data]   Unzipping corpora/stopwords.zip.\n"
     ]
    },
    {
     "data": {
      "text/html": [
       "\n",
       "  <div id=\"df-5c6d3be4-03fb-4294-9e3e-ce06356b11b1\" class=\"colab-df-container\">\n",
       "    <div>\n",
       "<style scoped>\n",
       "    .dataframe tbody tr th:only-of-type {\n",
       "        vertical-align: middle;\n",
       "    }\n",
       "\n",
       "    .dataframe tbody tr th {\n",
       "        vertical-align: top;\n",
       "    }\n",
       "\n",
       "    .dataframe thead th {\n",
       "        text-align: right;\n",
       "    }\n",
       "</style>\n",
       "<table border=\"1\" class=\"dataframe\">\n",
       "  <thead>\n",
       "    <tr style=\"text-align: right;\">\n",
       "      <th></th>\n",
       "      <th>userImage</th>\n",
       "      <th>content</th>\n",
       "      <th>score</th>\n",
       "      <th>thumbsUpCount</th>\n",
       "      <th>reviewCreatedVersion</th>\n",
       "      <th>replyContent</th>\n",
       "      <th>cleaned_content</th>\n",
       "      <th>sortOrder</th>\n",
       "    </tr>\n",
       "  </thead>\n",
       "  <tbody>\n",
       "    <tr>\n",
       "      <th>0</th>\n",
       "      <td>https://play-lh.googleusercontent.com/-2Zyc1Oz...</td>\n",
       "      <td>Unable to use it as it won't work with my Goog...</td>\n",
       "      <td>1</td>\n",
       "      <td>13</td>\n",
       "      <td>5.7.0.20</td>\n",
       "      <td>As our team explained profusely, we sync data ...</td>\n",
       "      <td>unable use wo work google calendar tech suppor...</td>\n",
       "      <td>most_relevant</td>\n",
       "    </tr>\n",
       "    <tr>\n",
       "      <th>1</th>\n",
       "      <td>https://play-lh.googleusercontent.com/a-/AOh14...</td>\n",
       "      <td>I downloaded this because of the cross platfor...</td>\n",
       "      <td>1</td>\n",
       "      <td>81</td>\n",
       "      <td>5.7.0.20</td>\n",
       "      <td>The Premium ad only shows up when first openin...</td>\n",
       "      <td>downloaded cross platform syncing purchase app...</td>\n",
       "      <td>most_relevant</td>\n",
       "    </tr>\n",
       "    <tr>\n",
       "      <th>2</th>\n",
       "      <td>https://play-lh.googleusercontent.com/a-/AOh14...</td>\n",
       "      <td>I am starting to hate this app! Every time the...</td>\n",
       "      <td>1</td>\n",
       "      <td>67</td>\n",
       "      <td>5.7.0.10</td>\n",
       "      <td>Hi, please note that these issues usually are ...</td>\n",
       "      <td>starting hate app every time update start exac...</td>\n",
       "      <td>most_relevant</td>\n",
       "    </tr>\n",
       "    <tr>\n",
       "      <th>3</th>\n",
       "      <td>https://play-lh.googleusercontent.com/-97UNn5D...</td>\n",
       "      <td>Liked Any.do at first, enough that I even sign...</td>\n",
       "      <td>1</td>\n",
       "      <td>102</td>\n",
       "      <td>5.7.0.10</td>\n",
       "      <td>Please note that Any.do integrates directly wi...</td>\n",
       "      <td>liked first enough even signed premium could s...</td>\n",
       "      <td>most_relevant</td>\n",
       "    </tr>\n",
       "    <tr>\n",
       "      <th>4</th>\n",
       "      <td>https://play-lh.googleusercontent.com/a-/AOh14...</td>\n",
       "      <td>They made me sign up for premium just to have ...</td>\n",
       "      <td>1</td>\n",
       "      <td>2</td>\n",
       "      <td>5.7.0.20</td>\n",
       "      <td>We never require users to upgrade, as 90% of t...</td>\n",
       "      <td>made sign premium recurring alert even hourly ...</td>\n",
       "      <td>most_relevant</td>\n",
       "    </tr>\n",
       "  </tbody>\n",
       "</table>\n",
       "</div>\n",
       "    <div class=\"colab-df-buttons\">\n",
       "\n",
       "  <div class=\"colab-df-container\">\n",
       "    <button class=\"colab-df-convert\" onclick=\"convertToInteractive('df-5c6d3be4-03fb-4294-9e3e-ce06356b11b1')\"\n",
       "            title=\"Convert this dataframe to an interactive table.\"\n",
       "            style=\"display:none;\">\n",
       "\n",
       "  <svg xmlns=\"http://www.w3.org/2000/svg\" height=\"24px\" viewBox=\"0 -960 960 960\">\n",
       "    <path d=\"M120-120v-720h720v720H120Zm60-500h600v-160H180v160Zm220 220h160v-160H400v160Zm0 220h160v-160H400v160ZM180-400h160v-160H180v160Zm440 0h160v-160H620v160ZM180-180h160v-160H180v160Zm440 0h160v-160H620v160Z\"/>\n",
       "  </svg>\n",
       "    </button>\n",
       "\n",
       "  <style>\n",
       "    .colab-df-container {\n",
       "      display:flex;\n",
       "      gap: 12px;\n",
       "    }\n",
       "\n",
       "    .colab-df-convert {\n",
       "      background-color: #E8F0FE;\n",
       "      border: none;\n",
       "      border-radius: 50%;\n",
       "      cursor: pointer;\n",
       "      display: none;\n",
       "      fill: #1967D2;\n",
       "      height: 32px;\n",
       "      padding: 0 0 0 0;\n",
       "      width: 32px;\n",
       "    }\n",
       "\n",
       "    .colab-df-convert:hover {\n",
       "      background-color: #E2EBFA;\n",
       "      box-shadow: 0px 1px 2px rgba(60, 64, 67, 0.3), 0px 1px 3px 1px rgba(60, 64, 67, 0.15);\n",
       "      fill: #174EA6;\n",
       "    }\n",
       "\n",
       "    .colab-df-buttons div {\n",
       "      margin-bottom: 4px;\n",
       "    }\n",
       "\n",
       "    [theme=dark] .colab-df-convert {\n",
       "      background-color: #3B4455;\n",
       "      fill: #D2E3FC;\n",
       "    }\n",
       "\n",
       "    [theme=dark] .colab-df-convert:hover {\n",
       "      background-color: #434B5C;\n",
       "      box-shadow: 0px 1px 3px 1px rgba(0, 0, 0, 0.15);\n",
       "      filter: drop-shadow(0px 1px 2px rgba(0, 0, 0, 0.3));\n",
       "      fill: #FFFFFF;\n",
       "    }\n",
       "  </style>\n",
       "\n",
       "    <script>\n",
       "      const buttonEl =\n",
       "        document.querySelector('#df-5c6d3be4-03fb-4294-9e3e-ce06356b11b1 button.colab-df-convert');\n",
       "      buttonEl.style.display =\n",
       "        google.colab.kernel.accessAllowed ? 'block' : 'none';\n",
       "\n",
       "      async function convertToInteractive(key) {\n",
       "        const element = document.querySelector('#df-5c6d3be4-03fb-4294-9e3e-ce06356b11b1');\n",
       "        const dataTable =\n",
       "          await google.colab.kernel.invokeFunction('convertToInteractive',\n",
       "                                                    [key], {});\n",
       "        if (!dataTable) return;\n",
       "\n",
       "        const docLinkHtml = 'Like what you see? Visit the ' +\n",
       "          '<a target=\"_blank\" href=https://colab.research.google.com/notebooks/data_table.ipynb>data table notebook</a>'\n",
       "          + ' to learn more about interactive tables.';\n",
       "        element.innerHTML = '';\n",
       "        dataTable['output_type'] = 'display_data';\n",
       "        await google.colab.output.renderOutput(dataTable, element);\n",
       "        const docLink = document.createElement('div');\n",
       "        docLink.innerHTML = docLinkHtml;\n",
       "        element.appendChild(docLink);\n",
       "      }\n",
       "    </script>\n",
       "  </div>\n",
       "\n",
       "\n",
       "<div id=\"df-0bcab780-3eb9-4880-a022-3963c7897a91\">\n",
       "  <button class=\"colab-df-quickchart\" onclick=\"quickchart('df-0bcab780-3eb9-4880-a022-3963c7897a91')\"\n",
       "            title=\"Suggest charts.\"\n",
       "            style=\"display:none;\">\n",
       "\n",
       "<svg xmlns=\"http://www.w3.org/2000/svg\" height=\"24px\"viewBox=\"0 0 24 24\"\n",
       "     width=\"24px\">\n",
       "    <g>\n",
       "        <path d=\"M19 3H5c-1.1 0-2 .9-2 2v14c0 1.1.9 2 2 2h14c1.1 0 2-.9 2-2V5c0-1.1-.9-2-2-2zM9 17H7v-7h2v7zm4 0h-2V7h2v10zm4 0h-2v-4h2v4z\"/>\n",
       "    </g>\n",
       "</svg>\n",
       "  </button>\n",
       "\n",
       "<style>\n",
       "  .colab-df-quickchart {\n",
       "      --bg-color: #E8F0FE;\n",
       "      --fill-color: #1967D2;\n",
       "      --hover-bg-color: #E2EBFA;\n",
       "      --hover-fill-color: #174EA6;\n",
       "      --disabled-fill-color: #AAA;\n",
       "      --disabled-bg-color: #DDD;\n",
       "  }\n",
       "\n",
       "  [theme=dark] .colab-df-quickchart {\n",
       "      --bg-color: #3B4455;\n",
       "      --fill-color: #D2E3FC;\n",
       "      --hover-bg-color: #434B5C;\n",
       "      --hover-fill-color: #FFFFFF;\n",
       "      --disabled-bg-color: #3B4455;\n",
       "      --disabled-fill-color: #666;\n",
       "  }\n",
       "\n",
       "  .colab-df-quickchart {\n",
       "    background-color: var(--bg-color);\n",
       "    border: none;\n",
       "    border-radius: 50%;\n",
       "    cursor: pointer;\n",
       "    display: none;\n",
       "    fill: var(--fill-color);\n",
       "    height: 32px;\n",
       "    padding: 0;\n",
       "    width: 32px;\n",
       "  }\n",
       "\n",
       "  .colab-df-quickchart:hover {\n",
       "    background-color: var(--hover-bg-color);\n",
       "    box-shadow: 0 1px 2px rgba(60, 64, 67, 0.3), 0 1px 3px 1px rgba(60, 64, 67, 0.15);\n",
       "    fill: var(--button-hover-fill-color);\n",
       "  }\n",
       "\n",
       "  .colab-df-quickchart-complete:disabled,\n",
       "  .colab-df-quickchart-complete:disabled:hover {\n",
       "    background-color: var(--disabled-bg-color);\n",
       "    fill: var(--disabled-fill-color);\n",
       "    box-shadow: none;\n",
       "  }\n",
       "\n",
       "  .colab-df-spinner {\n",
       "    border: 2px solid var(--fill-color);\n",
       "    border-color: transparent;\n",
       "    border-bottom-color: var(--fill-color);\n",
       "    animation:\n",
       "      spin 1s steps(1) infinite;\n",
       "  }\n",
       "\n",
       "  @keyframes spin {\n",
       "    0% {\n",
       "      border-color: transparent;\n",
       "      border-bottom-color: var(--fill-color);\n",
       "      border-left-color: var(--fill-color);\n",
       "    }\n",
       "    20% {\n",
       "      border-color: transparent;\n",
       "      border-left-color: var(--fill-color);\n",
       "      border-top-color: var(--fill-color);\n",
       "    }\n",
       "    30% {\n",
       "      border-color: transparent;\n",
       "      border-left-color: var(--fill-color);\n",
       "      border-top-color: var(--fill-color);\n",
       "      border-right-color: var(--fill-color);\n",
       "    }\n",
       "    40% {\n",
       "      border-color: transparent;\n",
       "      border-right-color: var(--fill-color);\n",
       "      border-top-color: var(--fill-color);\n",
       "    }\n",
       "    60% {\n",
       "      border-color: transparent;\n",
       "      border-right-color: var(--fill-color);\n",
       "    }\n",
       "    80% {\n",
       "      border-color: transparent;\n",
       "      border-right-color: var(--fill-color);\n",
       "      border-bottom-color: var(--fill-color);\n",
       "    }\n",
       "    90% {\n",
       "      border-color: transparent;\n",
       "      border-bottom-color: var(--fill-color);\n",
       "    }\n",
       "  }\n",
       "</style>\n",
       "\n",
       "  <script>\n",
       "    async function quickchart(key) {\n",
       "      const quickchartButtonEl =\n",
       "        document.querySelector('#' + key + ' button');\n",
       "      quickchartButtonEl.disabled = true;  // To prevent multiple clicks.\n",
       "      quickchartButtonEl.classList.add('colab-df-spinner');\n",
       "      try {\n",
       "        const charts = await google.colab.kernel.invokeFunction(\n",
       "            'suggestCharts', [key], {});\n",
       "      } catch (error) {\n",
       "        console.error('Error during call to suggestCharts:', error);\n",
       "      }\n",
       "      quickchartButtonEl.classList.remove('colab-df-spinner');\n",
       "      quickchartButtonEl.classList.add('colab-df-quickchart-complete');\n",
       "    }\n",
       "    (() => {\n",
       "      let quickchartButtonEl =\n",
       "        document.querySelector('#df-0bcab780-3eb9-4880-a022-3963c7897a91 button');\n",
       "      quickchartButtonEl.style.display =\n",
       "        google.colab.kernel.accessAllowed ? 'block' : 'none';\n",
       "    })();\n",
       "  </script>\n",
       "</div>\n",
       "    </div>\n",
       "  </div>\n"
      ],
      "text/plain": [
       "                                           userImage  \\\n",
       "0  https://play-lh.googleusercontent.com/-2Zyc1Oz...   \n",
       "1  https://play-lh.googleusercontent.com/a-/AOh14...   \n",
       "2  https://play-lh.googleusercontent.com/a-/AOh14...   \n",
       "3  https://play-lh.googleusercontent.com/-97UNn5D...   \n",
       "4  https://play-lh.googleusercontent.com/a-/AOh14...   \n",
       "\n",
       "                                             content  score  thumbsUpCount  \\\n",
       "0  Unable to use it as it won't work with my Goog...      1             13   \n",
       "1  I downloaded this because of the cross platfor...      1             81   \n",
       "2  I am starting to hate this app! Every time the...      1             67   \n",
       "3  Liked Any.do at first, enough that I even sign...      1            102   \n",
       "4  They made me sign up for premium just to have ...      1              2   \n",
       "\n",
       "  reviewCreatedVersion                                       replyContent  \\\n",
       "0             5.7.0.20  As our team explained profusely, we sync data ...   \n",
       "1             5.7.0.20  The Premium ad only shows up when first openin...   \n",
       "2             5.7.0.10  Hi, please note that these issues usually are ...   \n",
       "3             5.7.0.10  Please note that Any.do integrates directly wi...   \n",
       "4             5.7.0.20  We never require users to upgrade, as 90% of t...   \n",
       "\n",
       "                                     cleaned_content      sortOrder  \n",
       "0  unable use wo work google calendar tech suppor...  most_relevant  \n",
       "1  downloaded cross platform syncing purchase app...  most_relevant  \n",
       "2  starting hate app every time update start exac...  most_relevant  \n",
       "3  liked first enough even signed premium could s...  most_relevant  \n",
       "4  made sign premium recurring alert even hourly ...  most_relevant  "
      ]
     },
     "execution_count": 5,
     "metadata": {},
     "output_type": "execute_result"
    }
   ],
   "source": [
    "#!unzip /usr/share/nltk_data/corpora/wordnet.zip -d /usr/share/nltk_data/corpora/\n",
    "import nltk\n",
    "from nltk.corpus import wordnet as wn\n",
    "from nltk.stem import WordNetLemmatizer,PorterStemmer\n",
    "\n",
    "nltk.download('wordnet')\n",
    "nltk.download('punkt')\n",
    "nltk.download('stopwords')\n",
    "\n",
    "stop_words = set(stopwords.words('english'))\n",
    "st = PorterStemmer()\n",
    "lem = WordNetLemmatizer()\n",
    "\n",
    "def is_alpha(word):\n",
    "    for part in word.split('-'):\n",
    "        if not part.isalpha():\n",
    "            return False\n",
    "\n",
    "    return True\n",
    "\n",
    "def clean_dataset(text):\n",
    "    text = re.sub(r'http\\S+', '', text) # removing links\n",
    "    text = re.sub(r'\\\\n', ' ', text) # removing \\\\n\n",
    "    text = re.sub(r\"\\s*#\\S+\", \"\", text) # removing hash tags\n",
    "    text = re.sub(r\"\\s*@\\S+\", \"\", text) # removing @\n",
    "    text = text.lower()\n",
    "    words = [word for word in word_tokenize(text) if is_alpha(word)]\n",
    "    #words = [st.stem(word) for word in words]\n",
    "    words = [lem.lemmatize(word) for word in words]\n",
    "\n",
    "    # text = \" \".join([word for word in text.split(\" \") if is_alpha(word)])\n",
    "    # text = re.sub(r'[^a-zA-Z\\s]', '', text, re.I|re.A)\n",
    "    words = [w for w in words if not w in stop_words]\n",
    "    text = \" \".join(words)\n",
    "\n",
    "    return text.strip()\n",
    "\n",
    "data.insert(len(data.columns)-1, \"cleaned_content\", data['content'].apply(clean_dataset))\n",
    "data.head()"
   ]
  },
  {
   "cell_type": "markdown",
   "metadata": {
    "id": "m_uEcdmjoV4w"
   },
   "source": [
    "## POS TAGGING"
   ]
  },
  {
   "cell_type": "code",
   "execution_count": null,
   "metadata": {
    "id": "1xkbaIXEowaO"
   },
   "outputs": [],
   "source": [
    "import nltk\n",
    "from nltk.tokenize import word_tokenize\n",
    "from nltk import pos_tag\n",
    "import pandas as pd\n"
   ]
  },
  {
   "cell_type": "code",
   "execution_count": null,
   "metadata": {
    "colab": {
     "base_uri": "https://localhost:8080/"
    },
    "id": "rXOOhcf7t7wo",
    "outputId": "56c63fb0-baef-41eb-fb2f-92342fb5051a"
   },
   "outputs": [
    {
     "name": "stderr",
     "output_type": "stream",
     "text": [
      "[nltk_data] Downloading package punkt to /root/nltk_data...\n",
      "[nltk_data]   Package punkt is already up-to-date!\n",
      "[nltk_data] Downloading package averaged_perceptron_tagger to\n",
      "[nltk_data]     /root/nltk_data...\n",
      "[nltk_data]   Unzipping taggers/averaged_perceptron_tagger.zip.\n"
     ]
    },
    {
     "data": {
      "text/plain": [
       "True"
      ]
     },
     "execution_count": 13,
     "metadata": {},
     "output_type": "execute_result"
    }
   ],
   "source": [
    "nltk.download('punkt')\n",
    "nltk.download('averaged_perceptron_tagger')"
   ]
  },
  {
   "cell_type": "code",
   "execution_count": null,
   "metadata": {
    "colab": {
     "base_uri": "https://localhost:8080/",
     "height": 1000
    },
    "id": "8s3OG8d_t9Uu",
    "outputId": "35254aea-d072-46cd-80ad-50e3335e3224"
   },
   "outputs": [
    {
     "data": {
      "text/html": [
       "\n",
       "  <div id=\"df-0f14c372-8226-41ef-87c7-5461c546f2fd\" class=\"colab-df-container\">\n",
       "    <div>\n",
       "<style scoped>\n",
       "    .dataframe tbody tr th:only-of-type {\n",
       "        vertical-align: middle;\n",
       "    }\n",
       "\n",
       "    .dataframe tbody tr th {\n",
       "        vertical-align: top;\n",
       "    }\n",
       "\n",
       "    .dataframe thead th {\n",
       "        text-align: right;\n",
       "    }\n",
       "</style>\n",
       "<table border=\"1\" class=\"dataframe\">\n",
       "  <thead>\n",
       "    <tr style=\"text-align: right;\">\n",
       "      <th></th>\n",
       "      <th>userImage</th>\n",
       "      <th>content</th>\n",
       "      <th>score</th>\n",
       "      <th>thumbsUpCount</th>\n",
       "      <th>reviewCreatedVersion</th>\n",
       "      <th>replyContent</th>\n",
       "      <th>cleaned_content</th>\n",
       "      <th>sortOrder</th>\n",
       "    </tr>\n",
       "  </thead>\n",
       "  <tbody>\n",
       "    <tr>\n",
       "      <th>0</th>\n",
       "      <td>https://play-lh.googleusercontent.com/-2Zyc1Oz...</td>\n",
       "      <td>Unable to use it as it won't work with my Goog...</td>\n",
       "      <td>1</td>\n",
       "      <td>13</td>\n",
       "      <td>5.7.0.20</td>\n",
       "      <td>As our team explained profusely, we sync data ...</td>\n",
       "      <td>unable use wo work google calendar tech suppor...</td>\n",
       "      <td>most_relevant</td>\n",
       "    </tr>\n",
       "    <tr>\n",
       "      <th>1</th>\n",
       "      <td>https://play-lh.googleusercontent.com/a-/AOh14...</td>\n",
       "      <td>I downloaded this because of the cross platfor...</td>\n",
       "      <td>1</td>\n",
       "      <td>81</td>\n",
       "      <td>5.7.0.20</td>\n",
       "      <td>The Premium ad only shows up when first openin...</td>\n",
       "      <td>downloaded cross platform syncing purchase app...</td>\n",
       "      <td>most_relevant</td>\n",
       "    </tr>\n",
       "    <tr>\n",
       "      <th>2</th>\n",
       "      <td>https://play-lh.googleusercontent.com/a-/AOh14...</td>\n",
       "      <td>I am starting to hate this app! Every time the...</td>\n",
       "      <td>1</td>\n",
       "      <td>67</td>\n",
       "      <td>5.7.0.10</td>\n",
       "      <td>Hi, please note that these issues usually are ...</td>\n",
       "      <td>starting hate app every time update start exac...</td>\n",
       "      <td>most_relevant</td>\n",
       "    </tr>\n",
       "    <tr>\n",
       "      <th>3</th>\n",
       "      <td>https://play-lh.googleusercontent.com/-97UNn5D...</td>\n",
       "      <td>Liked Any.do at first, enough that I even sign...</td>\n",
       "      <td>1</td>\n",
       "      <td>102</td>\n",
       "      <td>5.7.0.10</td>\n",
       "      <td>Please note that Any.do integrates directly wi...</td>\n",
       "      <td>liked first enough even signed premium could s...</td>\n",
       "      <td>most_relevant</td>\n",
       "    </tr>\n",
       "    <tr>\n",
       "      <th>4</th>\n",
       "      <td>https://play-lh.googleusercontent.com/a-/AOh14...</td>\n",
       "      <td>They made me sign up for premium just to have ...</td>\n",
       "      <td>1</td>\n",
       "      <td>2</td>\n",
       "      <td>5.7.0.20</td>\n",
       "      <td>We never require users to upgrade, as 90% of t...</td>\n",
       "      <td>made sign premium recurring alert even hourly ...</td>\n",
       "      <td>most_relevant</td>\n",
       "    </tr>\n",
       "    <tr>\n",
       "      <th>...</th>\n",
       "      <td>...</td>\n",
       "      <td>...</td>\n",
       "      <td>...</td>\n",
       "      <td>...</td>\n",
       "      <td>...</td>\n",
       "      <td>...</td>\n",
       "      <td>...</td>\n",
       "      <td>...</td>\n",
       "    </tr>\n",
       "    <tr>\n",
       "      <th>7037</th>\n",
       "      <td>https://play-lh.googleusercontent.com/-VWQ9ItI...</td>\n",
       "      <td>Why when I put repeat it does not show on the ...</td>\n",
       "      <td>4</td>\n",
       "      <td>1</td>\n",
       "      <td>5.2</td>\n",
       "      <td>Hi, would you please contact us at planner.a@a...</td>\n",
       "      <td>put repeat doe show next day ca copy task diff...</td>\n",
       "      <td>newest</td>\n",
       "    </tr>\n",
       "    <tr>\n",
       "      <th>7038</th>\n",
       "      <td>https://play-lh.googleusercontent.com/a-/AOh14...</td>\n",
       "      <td>Works good</td>\n",
       "      <td>4</td>\n",
       "      <td>0</td>\n",
       "      <td>5.1</td>\n",
       "      <td>Hi, if you have any ideas about improving the ...</td>\n",
       "      <td>work good</td>\n",
       "      <td>newest</td>\n",
       "    </tr>\n",
       "    <tr>\n",
       "      <th>7039</th>\n",
       "      <td>https://play-lh.googleusercontent.com/a-/AOh14...</td>\n",
       "      <td>Its very effective tool for daily tasks and ev...</td>\n",
       "      <td>4</td>\n",
       "      <td>13</td>\n",
       "      <td>5.1</td>\n",
       "      <td>Hi, if you have any ideas about improving the ...</td>\n",
       "      <td>effective tool daily task event plus long term...</td>\n",
       "      <td>newest</td>\n",
       "    </tr>\n",
       "    <tr>\n",
       "      <th>7040</th>\n",
       "      <td>https://play-lh.googleusercontent.com/-epJSlRi...</td>\n",
       "      <td>Next best thing to using F. Covey when I was w...</td>\n",
       "      <td>4</td>\n",
       "      <td>0</td>\n",
       "      <td>5.0.5</td>\n",
       "      <td>Hi, if you have any ideas about improving the ...</td>\n",
       "      <td>next best thing using covey wa working</td>\n",
       "      <td>newest</td>\n",
       "    </tr>\n",
       "    <tr>\n",
       "      <th>7041</th>\n",
       "      <td>https://play-lh.googleusercontent.com/a-/AOh14...</td>\n",
       "      <td>Excellent Application! Would've given 5 stars ...</td>\n",
       "      <td>4</td>\n",
       "      <td>14</td>\n",
       "      <td>5.0.5</td>\n",
       "      <td>Hi, would you please contact us at planner.a@a...</td>\n",
       "      <td>excellent application would given star followi...</td>\n",
       "      <td>newest</td>\n",
       "    </tr>\n",
       "  </tbody>\n",
       "</table>\n",
       "<p>7042 rows × 8 columns</p>\n",
       "</div>\n",
       "    <div class=\"colab-df-buttons\">\n",
       "\n",
       "  <div class=\"colab-df-container\">\n",
       "    <button class=\"colab-df-convert\" onclick=\"convertToInteractive('df-0f14c372-8226-41ef-87c7-5461c546f2fd')\"\n",
       "            title=\"Convert this dataframe to an interactive table.\"\n",
       "            style=\"display:none;\">\n",
       "\n",
       "  <svg xmlns=\"http://www.w3.org/2000/svg\" height=\"24px\" viewBox=\"0 -960 960 960\">\n",
       "    <path d=\"M120-120v-720h720v720H120Zm60-500h600v-160H180v160Zm220 220h160v-160H400v160Zm0 220h160v-160H400v160ZM180-400h160v-160H180v160Zm440 0h160v-160H620v160ZM180-180h160v-160H180v160Zm440 0h160v-160H620v160Z\"/>\n",
       "  </svg>\n",
       "    </button>\n",
       "\n",
       "  <style>\n",
       "    .colab-df-container {\n",
       "      display:flex;\n",
       "      gap: 12px;\n",
       "    }\n",
       "\n",
       "    .colab-df-convert {\n",
       "      background-color: #E8F0FE;\n",
       "      border: none;\n",
       "      border-radius: 50%;\n",
       "      cursor: pointer;\n",
       "      display: none;\n",
       "      fill: #1967D2;\n",
       "      height: 32px;\n",
       "      padding: 0 0 0 0;\n",
       "      width: 32px;\n",
       "    }\n",
       "\n",
       "    .colab-df-convert:hover {\n",
       "      background-color: #E2EBFA;\n",
       "      box-shadow: 0px 1px 2px rgba(60, 64, 67, 0.3), 0px 1px 3px 1px rgba(60, 64, 67, 0.15);\n",
       "      fill: #174EA6;\n",
       "    }\n",
       "\n",
       "    .colab-df-buttons div {\n",
       "      margin-bottom: 4px;\n",
       "    }\n",
       "\n",
       "    [theme=dark] .colab-df-convert {\n",
       "      background-color: #3B4455;\n",
       "      fill: #D2E3FC;\n",
       "    }\n",
       "\n",
       "    [theme=dark] .colab-df-convert:hover {\n",
       "      background-color: #434B5C;\n",
       "      box-shadow: 0px 1px 3px 1px rgba(0, 0, 0, 0.15);\n",
       "      filter: drop-shadow(0px 1px 2px rgba(0, 0, 0, 0.3));\n",
       "      fill: #FFFFFF;\n",
       "    }\n",
       "  </style>\n",
       "\n",
       "    <script>\n",
       "      const buttonEl =\n",
       "        document.querySelector('#df-0f14c372-8226-41ef-87c7-5461c546f2fd button.colab-df-convert');\n",
       "      buttonEl.style.display =\n",
       "        google.colab.kernel.accessAllowed ? 'block' : 'none';\n",
       "\n",
       "      async function convertToInteractive(key) {\n",
       "        const element = document.querySelector('#df-0f14c372-8226-41ef-87c7-5461c546f2fd');\n",
       "        const dataTable =\n",
       "          await google.colab.kernel.invokeFunction('convertToInteractive',\n",
       "                                                    [key], {});\n",
       "        if (!dataTable) return;\n",
       "\n",
       "        const docLinkHtml = 'Like what you see? Visit the ' +\n",
       "          '<a target=\"_blank\" href=https://colab.research.google.com/notebooks/data_table.ipynb>data table notebook</a>'\n",
       "          + ' to learn more about interactive tables.';\n",
       "        element.innerHTML = '';\n",
       "        dataTable['output_type'] = 'display_data';\n",
       "        await google.colab.output.renderOutput(dataTable, element);\n",
       "        const docLink = document.createElement('div');\n",
       "        docLink.innerHTML = docLinkHtml;\n",
       "        element.appendChild(docLink);\n",
       "      }\n",
       "    </script>\n",
       "  </div>\n",
       "\n",
       "\n",
       "<div id=\"df-95c2f322-c1b3-4c60-b4b2-866cbbedefed\">\n",
       "  <button class=\"colab-df-quickchart\" onclick=\"quickchart('df-95c2f322-c1b3-4c60-b4b2-866cbbedefed')\"\n",
       "            title=\"Suggest charts.\"\n",
       "            style=\"display:none;\">\n",
       "\n",
       "<svg xmlns=\"http://www.w3.org/2000/svg\" height=\"24px\"viewBox=\"0 0 24 24\"\n",
       "     width=\"24px\">\n",
       "    <g>\n",
       "        <path d=\"M19 3H5c-1.1 0-2 .9-2 2v14c0 1.1.9 2 2 2h14c1.1 0 2-.9 2-2V5c0-1.1-.9-2-2-2zM9 17H7v-7h2v7zm4 0h-2V7h2v10zm4 0h-2v-4h2v4z\"/>\n",
       "    </g>\n",
       "</svg>\n",
       "  </button>\n",
       "\n",
       "<style>\n",
       "  .colab-df-quickchart {\n",
       "      --bg-color: #E8F0FE;\n",
       "      --fill-color: #1967D2;\n",
       "      --hover-bg-color: #E2EBFA;\n",
       "      --hover-fill-color: #174EA6;\n",
       "      --disabled-fill-color: #AAA;\n",
       "      --disabled-bg-color: #DDD;\n",
       "  }\n",
       "\n",
       "  [theme=dark] .colab-df-quickchart {\n",
       "      --bg-color: #3B4455;\n",
       "      --fill-color: #D2E3FC;\n",
       "      --hover-bg-color: #434B5C;\n",
       "      --hover-fill-color: #FFFFFF;\n",
       "      --disabled-bg-color: #3B4455;\n",
       "      --disabled-fill-color: #666;\n",
       "  }\n",
       "\n",
       "  .colab-df-quickchart {\n",
       "    background-color: var(--bg-color);\n",
       "    border: none;\n",
       "    border-radius: 50%;\n",
       "    cursor: pointer;\n",
       "    display: none;\n",
       "    fill: var(--fill-color);\n",
       "    height: 32px;\n",
       "    padding: 0;\n",
       "    width: 32px;\n",
       "  }\n",
       "\n",
       "  .colab-df-quickchart:hover {\n",
       "    background-color: var(--hover-bg-color);\n",
       "    box-shadow: 0 1px 2px rgba(60, 64, 67, 0.3), 0 1px 3px 1px rgba(60, 64, 67, 0.15);\n",
       "    fill: var(--button-hover-fill-color);\n",
       "  }\n",
       "\n",
       "  .colab-df-quickchart-complete:disabled,\n",
       "  .colab-df-quickchart-complete:disabled:hover {\n",
       "    background-color: var(--disabled-bg-color);\n",
       "    fill: var(--disabled-fill-color);\n",
       "    box-shadow: none;\n",
       "  }\n",
       "\n",
       "  .colab-df-spinner {\n",
       "    border: 2px solid var(--fill-color);\n",
       "    border-color: transparent;\n",
       "    border-bottom-color: var(--fill-color);\n",
       "    animation:\n",
       "      spin 1s steps(1) infinite;\n",
       "  }\n",
       "\n",
       "  @keyframes spin {\n",
       "    0% {\n",
       "      border-color: transparent;\n",
       "      border-bottom-color: var(--fill-color);\n",
       "      border-left-color: var(--fill-color);\n",
       "    }\n",
       "    20% {\n",
       "      border-color: transparent;\n",
       "      border-left-color: var(--fill-color);\n",
       "      border-top-color: var(--fill-color);\n",
       "    }\n",
       "    30% {\n",
       "      border-color: transparent;\n",
       "      border-left-color: var(--fill-color);\n",
       "      border-top-color: var(--fill-color);\n",
       "      border-right-color: var(--fill-color);\n",
       "    }\n",
       "    40% {\n",
       "      border-color: transparent;\n",
       "      border-right-color: var(--fill-color);\n",
       "      border-top-color: var(--fill-color);\n",
       "    }\n",
       "    60% {\n",
       "      border-color: transparent;\n",
       "      border-right-color: var(--fill-color);\n",
       "    }\n",
       "    80% {\n",
       "      border-color: transparent;\n",
       "      border-right-color: var(--fill-color);\n",
       "      border-bottom-color: var(--fill-color);\n",
       "    }\n",
       "    90% {\n",
       "      border-color: transparent;\n",
       "      border-bottom-color: var(--fill-color);\n",
       "    }\n",
       "  }\n",
       "</style>\n",
       "\n",
       "  <script>\n",
       "    async function quickchart(key) {\n",
       "      const quickchartButtonEl =\n",
       "        document.querySelector('#' + key + ' button');\n",
       "      quickchartButtonEl.disabled = true;  // To prevent multiple clicks.\n",
       "      quickchartButtonEl.classList.add('colab-df-spinner');\n",
       "      try {\n",
       "        const charts = await google.colab.kernel.invokeFunction(\n",
       "            'suggestCharts', [key], {});\n",
       "      } catch (error) {\n",
       "        console.error('Error during call to suggestCharts:', error);\n",
       "      }\n",
       "      quickchartButtonEl.classList.remove('colab-df-spinner');\n",
       "      quickchartButtonEl.classList.add('colab-df-quickchart-complete');\n",
       "    }\n",
       "    (() => {\n",
       "      let quickchartButtonEl =\n",
       "        document.querySelector('#df-95c2f322-c1b3-4c60-b4b2-866cbbedefed button');\n",
       "      quickchartButtonEl.style.display =\n",
       "        google.colab.kernel.accessAllowed ? 'block' : 'none';\n",
       "    })();\n",
       "  </script>\n",
       "</div>\n",
       "    </div>\n",
       "  </div>\n"
      ],
      "text/plain": [
       "                                              userImage  \\\n",
       "0     https://play-lh.googleusercontent.com/-2Zyc1Oz...   \n",
       "1     https://play-lh.googleusercontent.com/a-/AOh14...   \n",
       "2     https://play-lh.googleusercontent.com/a-/AOh14...   \n",
       "3     https://play-lh.googleusercontent.com/-97UNn5D...   \n",
       "4     https://play-lh.googleusercontent.com/a-/AOh14...   \n",
       "...                                                 ...   \n",
       "7037  https://play-lh.googleusercontent.com/-VWQ9ItI...   \n",
       "7038  https://play-lh.googleusercontent.com/a-/AOh14...   \n",
       "7039  https://play-lh.googleusercontent.com/a-/AOh14...   \n",
       "7040  https://play-lh.googleusercontent.com/-epJSlRi...   \n",
       "7041  https://play-lh.googleusercontent.com/a-/AOh14...   \n",
       "\n",
       "                                                content  score  thumbsUpCount  \\\n",
       "0     Unable to use it as it won't work with my Goog...      1             13   \n",
       "1     I downloaded this because of the cross platfor...      1             81   \n",
       "2     I am starting to hate this app! Every time the...      1             67   \n",
       "3     Liked Any.do at first, enough that I even sign...      1            102   \n",
       "4     They made me sign up for premium just to have ...      1              2   \n",
       "...                                                 ...    ...            ...   \n",
       "7037  Why when I put repeat it does not show on the ...      4              1   \n",
       "7038                                         Works good      4              0   \n",
       "7039  Its very effective tool for daily tasks and ev...      4             13   \n",
       "7040  Next best thing to using F. Covey when I was w...      4              0   \n",
       "7041  Excellent Application! Would've given 5 stars ...      4             14   \n",
       "\n",
       "     reviewCreatedVersion                                       replyContent  \\\n",
       "0                5.7.0.20  As our team explained profusely, we sync data ...   \n",
       "1                5.7.0.20  The Premium ad only shows up when first openin...   \n",
       "2                5.7.0.10  Hi, please note that these issues usually are ...   \n",
       "3                5.7.0.10  Please note that Any.do integrates directly wi...   \n",
       "4                5.7.0.20  We never require users to upgrade, as 90% of t...   \n",
       "...                   ...                                                ...   \n",
       "7037                  5.2  Hi, would you please contact us at planner.a@a...   \n",
       "7038                  5.1  Hi, if you have any ideas about improving the ...   \n",
       "7039                  5.1  Hi, if you have any ideas about improving the ...   \n",
       "7040                5.0.5  Hi, if you have any ideas about improving the ...   \n",
       "7041                5.0.5  Hi, would you please contact us at planner.a@a...   \n",
       "\n",
       "                                        cleaned_content      sortOrder  \n",
       "0     unable use wo work google calendar tech suppor...  most_relevant  \n",
       "1     downloaded cross platform syncing purchase app...  most_relevant  \n",
       "2     starting hate app every time update start exac...  most_relevant  \n",
       "3     liked first enough even signed premium could s...  most_relevant  \n",
       "4     made sign premium recurring alert even hourly ...  most_relevant  \n",
       "...                                                 ...            ...  \n",
       "7037  put repeat doe show next day ca copy task diff...         newest  \n",
       "7038                                          work good         newest  \n",
       "7039  effective tool daily task event plus long term...         newest  \n",
       "7040             next best thing using covey wa working         newest  \n",
       "7041  excellent application would given star followi...         newest  \n",
       "\n",
       "[7042 rows x 8 columns]"
      ]
     },
     "execution_count": 17,
     "metadata": {},
     "output_type": "execute_result"
    }
   ],
   "source": [
    "data = pd.read_excel(\"/content/cleangoogle.xlsx\")\n",
    "data"
   ]
  },
  {
   "cell_type": "code",
   "execution_count": null,
   "metadata": {
    "id": "6cH7F8gRt_Zi"
   },
   "outputs": [],
   "source": [
    "tagged_data = []\n"
   ]
  },
  {
   "cell_type": "code",
   "execution_count": null,
   "metadata": {
    "id": "J1i4S-CmuG1S"
   },
   "outputs": [],
   "source": [
    "for sentence in data['cleaned_content']:\n",
    "    # Check if the sentence is not NaN (not missing)\n",
    "    if pd.notna(sentence):\n",
    "        words = word_tokenize(sentence)\n",
    "        pos_tags = pos_tag(words)\n",
    "        tagged_data.append(pos_tags)\n",
    "    else:\n",
    "        # Handle missing values (e.g., you can choose to add a placeholder)\n",
    "        tagged_data.append([])  # Empty list or any other desired placeholder\n"
   ]
  },
  {
   "cell_type": "code",
   "execution_count": null,
   "metadata": {
    "colab": {
     "base_uri": "https://localhost:8080/",
     "height": 1000
    },
    "id": "i4g3I86QuH-Y",
    "outputId": "a782ef8f-61d0-4417-a60b-1f567479b797"
   },
   "outputs": [],
   "source": [
    "data['pos_tags'] = tagged_data\n",
    "data"
   ]
  },
  {
   "cell_type": "markdown",
   "metadata": {
    "id": "wblLOmJivO4k"
   },
   "source": [
    "## TFIDF "
   ]
  },
  {
   "cell_type": "code",
   "execution_count": null,
   "metadata": {
    "id": "I6SVPqhrvdP0"
   },
   "outputs": [],
   "source": [
    "from sklearn.feature_extraction.text import TfidfVectorizer\n",
    "import pandas as pd"
   ]
  },
  {
   "cell_type": "code",
   "execution_count": null,
   "metadata": {
    "id": "w3Bz8lh4wO9l"
   },
   "outputs": [],
   "source": [
    "data['cleaned_content'].fillna('', inplace=True)"
   ]
  },
  {
   "cell_type": "code",
   "execution_count": null,
   "metadata": {
    "id": "Iq4EPn-ZwpF-"
   },
   "outputs": [],
   "source": [
    "# Create a TF-IDF vectorizer instance\n",
    "tfidf_vectorizer = TfidfVectorizer()"
   ]
  },
  {
   "cell_type": "code",
   "execution_count": null,
   "metadata": {
    "id": "zkgn_TEcws2Y"
   },
   "outputs": [],
   "source": [
    "# Fit and transform the 'cleaned_content' data to TF-IDF vectors\n",
    "tfidf_matrix = tfidf_vectorizer.fit_transform(data['cleaned_content'])\n"
   ]
  },
  {
   "cell_type": "code",
   "execution_count": null,
   "metadata": {
    "id": "ae3b21Y3wuLV"
   },
   "outputs": [],
   "source": [
    "# Get feature names (words) from the vectorizer\n",
    "feature_names = tfidf_vectorizer.get_feature_names_out()\n"
   ]
  },
  {
   "cell_type": "code",
   "execution_count": null,
   "metadata": {
    "id": "2tWOTDr3w47u"
   },
   "outputs": [],
   "source": [
    "# Create a DataFrame to display the TF-IDF values\n",
    "tfidf_df = pd.DataFrame(data=tfidf_matrix.toarray(), columns=feature_names)"
   ]
  },
  {
   "cell_type": "code",
   "execution_count": null,
   "metadata": {
    "colab": {
     "base_uri": "https://localhost:8080/"
    },
    "id": "R2tSnebpw6Sv",
    "outputId": "fc2d3afc-6363-4f25-cbb9-d2a940a81eae"
   },
   "outputs": [
    {
     "name": "stdout",
     "output_type": "stream",
     "text": [
      "       aa  aaah  aak  aap   ab  abandon  abandoned  abc  aber  abhorrent  ...  \\\n",
      "0     0.0   0.0  0.0  0.0  0.0      0.0        0.0  0.0   0.0        0.0  ...   \n",
      "1     0.0   0.0  0.0  0.0  0.0      0.0        0.0  0.0   0.0        0.0  ...   \n",
      "2     0.0   0.0  0.0  0.0  0.0      0.0        0.0  0.0   0.0        0.0  ...   \n",
      "3     0.0   0.0  0.0  0.0  0.0      0.0        0.0  0.0   0.0        0.0  ...   \n",
      "4     0.0   0.0  0.0  0.0  0.0      0.0        0.0  0.0   0.0        0.0  ...   \n",
      "...   ...   ...  ...  ...  ...      ...        ...  ...   ...        ...  ...   \n",
      "7037  0.0   0.0  0.0  0.0  0.0      0.0        0.0  0.0   0.0        0.0  ...   \n",
      "7038  0.0   0.0  0.0  0.0  0.0      0.0        0.0  0.0   0.0        0.0  ...   \n",
      "7039  0.0   0.0  0.0  0.0  0.0      0.0        0.0  0.0   0.0        0.0  ...   \n",
      "7040  0.0   0.0  0.0  0.0  0.0      0.0        0.0  0.0   0.0        0.0  ...   \n",
      "7041  0.0   0.0  0.0  0.0  0.0      0.0        0.0  0.0   0.0        0.0  ...   \n",
      "\n",
      "      ولی  پولیه  چطوری   چپ  چیده  چین  کار  کنید  ꈍᴥꈍʔ   아왜  \n",
      "0     0.0    0.0    0.0  0.0   0.0  0.0  0.0   0.0   0.0  0.0  \n",
      "1     0.0    0.0    0.0  0.0   0.0  0.0  0.0   0.0   0.0  0.0  \n",
      "2     0.0    0.0    0.0  0.0   0.0  0.0  0.0   0.0   0.0  0.0  \n",
      "3     0.0    0.0    0.0  0.0   0.0  0.0  0.0   0.0   0.0  0.0  \n",
      "4     0.0    0.0    0.0  0.0   0.0  0.0  0.0   0.0   0.0  0.0  \n",
      "...   ...    ...    ...  ...   ...  ...  ...   ...   ...  ...  \n",
      "7037  0.0    0.0    0.0  0.0   0.0  0.0  0.0   0.0   0.0  0.0  \n",
      "7038  0.0    0.0    0.0  0.0   0.0  0.0  0.0   0.0   0.0  0.0  \n",
      "7039  0.0    0.0    0.0  0.0   0.0  0.0  0.0   0.0   0.0  0.0  \n",
      "7040  0.0    0.0    0.0  0.0   0.0  0.0  0.0   0.0   0.0  0.0  \n",
      "7041  0.0    0.0    0.0  0.0   0.0  0.0  0.0   0.0   0.0  0.0  \n",
      "\n",
      "[7042 rows x 7160 columns]\n"
     ]
    }
   ],
   "source": [
    "print(tfidf_df)"
   ]
  },
  {
   "cell_type": "code",
   "execution_count": 2,
   "metadata": {
    "colab": {
     "base_uri": "https://localhost:8080/",
     "height": 877
    },
    "id": "8hu_gXDn9Jj9",
    "outputId": "8ec4540e-ddac-4b83-b133-9fb72bf3305f"
   },
   "outputs": [
    {
     "data": {
      "text/html": [
       "\n",
       "  <div id=\"df-5d17db43-912e-4afc-919f-dc713a40a62c\" class=\"colab-df-container\">\n",
       "    <div>\n",
       "<style scoped>\n",
       "    .dataframe tbody tr th:only-of-type {\n",
       "        vertical-align: middle;\n",
       "    }\n",
       "\n",
       "    .dataframe tbody tr th {\n",
       "        vertical-align: top;\n",
       "    }\n",
       "\n",
       "    .dataframe thead th {\n",
       "        text-align: right;\n",
       "    }\n",
       "</style>\n",
       "<table border=\"1\" class=\"dataframe\">\n",
       "  <thead>\n",
       "    <tr style=\"text-align: right;\">\n",
       "      <th></th>\n",
       "      <th>userName</th>\n",
       "      <th>content</th>\n",
       "      <th>thumbsUpCount</th>\n",
       "      <th>reviewCreatedVersion</th>\n",
       "      <th>replyContent</th>\n",
       "      <th>cleaned_content</th>\n",
       "      <th>pos_tags</th>\n",
       "    </tr>\n",
       "  </thead>\n",
       "  <tbody>\n",
       "    <tr>\n",
       "      <th>0</th>\n",
       "      <td>H G</td>\n",
       "      <td>Unable to use it as it won't work with my Goog...</td>\n",
       "      <td>13</td>\n",
       "      <td>5.7.0.20</td>\n",
       "      <td>As our team explained profusely, we sync data ...</td>\n",
       "      <td>unable use wo work google calendar tech suppor...</td>\n",
       "      <td>[('unable', 'JJ'), ('use', 'NN'), ('wo', 'MD')...</td>\n",
       "    </tr>\n",
       "    <tr>\n",
       "      <th>1</th>\n",
       "      <td>Michelle Armstrong</td>\n",
       "      <td>I downloaded this because of the cross platfor...</td>\n",
       "      <td>81</td>\n",
       "      <td>5.7.0.20</td>\n",
       "      <td>The Premium ad only shows up when first openin...</td>\n",
       "      <td>downloaded cross platform syncing purchase app...</td>\n",
       "      <td>[('downloaded', 'VBN'), ('cross', 'NN'), ('pla...</td>\n",
       "    </tr>\n",
       "    <tr>\n",
       "      <th>2</th>\n",
       "      <td>Yiğitcan Sümbelli</td>\n",
       "      <td>I am starting to hate this app! Every time the...</td>\n",
       "      <td>67</td>\n",
       "      <td>5.7.0.10</td>\n",
       "      <td>Hi, please note that these issues usually are ...</td>\n",
       "      <td>starting hate app every time update start exac...</td>\n",
       "      <td>[('starting', 'VBG'), ('hate', 'NN'), ('app', ...</td>\n",
       "    </tr>\n",
       "    <tr>\n",
       "      <th>3</th>\n",
       "      <td>Jon Pember</td>\n",
       "      <td>Liked Any.do at first, enough that I even sign...</td>\n",
       "      <td>102</td>\n",
       "      <td>5.7.0.10</td>\n",
       "      <td>Please note that Any.do integrates directly wi...</td>\n",
       "      <td>liked first enough even signed premium could s...</td>\n",
       "      <td>[('liked', 'VBN'), ('first', 'JJ'), ('enough',...</td>\n",
       "    </tr>\n",
       "    <tr>\n",
       "      <th>4</th>\n",
       "      <td>Harry Wexler Jr. MBA</td>\n",
       "      <td>They made me sign up for premium just to have ...</td>\n",
       "      <td>2</td>\n",
       "      <td>5.7.0.20</td>\n",
       "      <td>We never require users to upgrade, as 90% of t...</td>\n",
       "      <td>made sign premium recurring alert even hourly ...</td>\n",
       "      <td>[('made', 'VBN'), ('sign', 'NN'), ('premium', ...</td>\n",
       "    </tr>\n",
       "    <tr>\n",
       "      <th>...</th>\n",
       "      <td>...</td>\n",
       "      <td>...</td>\n",
       "      <td>...</td>\n",
       "      <td>...</td>\n",
       "      <td>...</td>\n",
       "      <td>...</td>\n",
       "      <td>...</td>\n",
       "    </tr>\n",
       "    <tr>\n",
       "      <th>16381</th>\n",
       "      <td>Arifa Kanaan</td>\n",
       "      <td>Love this app so organized</td>\n",
       "      <td>0</td>\n",
       "      <td>5.0.2</td>\n",
       "      <td>0</td>\n",
       "      <td>love app organized</td>\n",
       "      <td>[('love', 'VB'), ('app', 'NN'), ('organized', ...</td>\n",
       "    </tr>\n",
       "    <tr>\n",
       "      <th>16382</th>\n",
       "      <td>Cindi Peeff</td>\n",
       "      <td>Great place to keep notes</td>\n",
       "      <td>0</td>\n",
       "      <td>5.0.2</td>\n",
       "      <td>0</td>\n",
       "      <td>great place keep note</td>\n",
       "      <td>[('great', 'JJ'), ('place', 'NN'), ('keep', 'V...</td>\n",
       "    </tr>\n",
       "    <tr>\n",
       "      <th>16383</th>\n",
       "      <td>Rashaad Jones</td>\n",
       "      <td>This app helps me compartmentalize my hectic l...</td>\n",
       "      <td>0</td>\n",
       "      <td>5.0.2</td>\n",
       "      <td>0</td>\n",
       "      <td>app help compartmentalize hectic life thank gr...</td>\n",
       "      <td>[('app', 'NN'), ('help', 'NN'), ('compartmenta...</td>\n",
       "    </tr>\n",
       "    <tr>\n",
       "      <th>16384</th>\n",
       "      <td>Amanda Seckman</td>\n",
       "      <td>Love it!</td>\n",
       "      <td>0</td>\n",
       "      <td>5.0.2</td>\n",
       "      <td>0</td>\n",
       "      <td>love</td>\n",
       "      <td>[('love', 'NN')]</td>\n",
       "    </tr>\n",
       "    <tr>\n",
       "      <th>16385</th>\n",
       "      <td>Phil Moore</td>\n",
       "      <td>Works well and don't bother you</td>\n",
       "      <td>0</td>\n",
       "      <td>5.0.2</td>\n",
       "      <td>0</td>\n",
       "      <td>work well bother</td>\n",
       "      <td>[('work', 'NN'), ('well', 'RB'), ('bother', 'R...</td>\n",
       "    </tr>\n",
       "  </tbody>\n",
       "</table>\n",
       "<p>16386 rows × 7 columns</p>\n",
       "</div>\n",
       "    <div class=\"colab-df-buttons\">\n",
       "\n",
       "  <div class=\"colab-df-container\">\n",
       "    <button class=\"colab-df-convert\" onclick=\"convertToInteractive('df-5d17db43-912e-4afc-919f-dc713a40a62c')\"\n",
       "            title=\"Convert this dataframe to an interactive table.\"\n",
       "            style=\"display:none;\">\n",
       "\n",
       "  <svg xmlns=\"http://www.w3.org/2000/svg\" height=\"24px\" viewBox=\"0 -960 960 960\">\n",
       "    <path d=\"M120-120v-720h720v720H120Zm60-500h600v-160H180v160Zm220 220h160v-160H400v160Zm0 220h160v-160H400v160ZM180-400h160v-160H180v160Zm440 0h160v-160H620v160ZM180-180h160v-160H180v160Zm440 0h160v-160H620v160Z\"/>\n",
       "  </svg>\n",
       "    </button>\n",
       "\n",
       "  <style>\n",
       "    .colab-df-container {\n",
       "      display:flex;\n",
       "      gap: 12px;\n",
       "    }\n",
       "\n",
       "    .colab-df-convert {\n",
       "      background-color: #E8F0FE;\n",
       "      border: none;\n",
       "      border-radius: 50%;\n",
       "      cursor: pointer;\n",
       "      display: none;\n",
       "      fill: #1967D2;\n",
       "      height: 32px;\n",
       "      padding: 0 0 0 0;\n",
       "      width: 32px;\n",
       "    }\n",
       "\n",
       "    .colab-df-convert:hover {\n",
       "      background-color: #E2EBFA;\n",
       "      box-shadow: 0px 1px 2px rgba(60, 64, 67, 0.3), 0px 1px 3px 1px rgba(60, 64, 67, 0.15);\n",
       "      fill: #174EA6;\n",
       "    }\n",
       "\n",
       "    .colab-df-buttons div {\n",
       "      margin-bottom: 4px;\n",
       "    }\n",
       "\n",
       "    [theme=dark] .colab-df-convert {\n",
       "      background-color: #3B4455;\n",
       "      fill: #D2E3FC;\n",
       "    }\n",
       "\n",
       "    [theme=dark] .colab-df-convert:hover {\n",
       "      background-color: #434B5C;\n",
       "      box-shadow: 0px 1px 3px 1px rgba(0, 0, 0, 0.15);\n",
       "      filter: drop-shadow(0px 1px 2px rgba(0, 0, 0, 0.3));\n",
       "      fill: #FFFFFF;\n",
       "    }\n",
       "  </style>\n",
       "\n",
       "    <script>\n",
       "      const buttonEl =\n",
       "        document.querySelector('#df-5d17db43-912e-4afc-919f-dc713a40a62c button.colab-df-convert');\n",
       "      buttonEl.style.display =\n",
       "        google.colab.kernel.accessAllowed ? 'block' : 'none';\n",
       "\n",
       "      async function convertToInteractive(key) {\n",
       "        const element = document.querySelector('#df-5d17db43-912e-4afc-919f-dc713a40a62c');\n",
       "        const dataTable =\n",
       "          await google.colab.kernel.invokeFunction('convertToInteractive',\n",
       "                                                    [key], {});\n",
       "        if (!dataTable) return;\n",
       "\n",
       "        const docLinkHtml = 'Like what you see? Visit the ' +\n",
       "          '<a target=\"_blank\" href=https://colab.research.google.com/notebooks/data_table.ipynb>data table notebook</a>'\n",
       "          + ' to learn more about interactive tables.';\n",
       "        element.innerHTML = '';\n",
       "        dataTable['output_type'] = 'display_data';\n",
       "        await google.colab.output.renderOutput(dataTable, element);\n",
       "        const docLink = document.createElement('div');\n",
       "        docLink.innerHTML = docLinkHtml;\n",
       "        element.appendChild(docLink);\n",
       "      }\n",
       "    </script>\n",
       "  </div>\n",
       "\n",
       "\n",
       "<div id=\"df-85026e81-505a-4100-b9c2-2ccdf3f36d9f\">\n",
       "  <button class=\"colab-df-quickchart\" onclick=\"quickchart('df-85026e81-505a-4100-b9c2-2ccdf3f36d9f')\"\n",
       "            title=\"Suggest charts.\"\n",
       "            style=\"display:none;\">\n",
       "\n",
       "<svg xmlns=\"http://www.w3.org/2000/svg\" height=\"24px\"viewBox=\"0 0 24 24\"\n",
       "     width=\"24px\">\n",
       "    <g>\n",
       "        <path d=\"M19 3H5c-1.1 0-2 .9-2 2v14c0 1.1.9 2 2 2h14c1.1 0 2-.9 2-2V5c0-1.1-.9-2-2-2zM9 17H7v-7h2v7zm4 0h-2V7h2v10zm4 0h-2v-4h2v4z\"/>\n",
       "    </g>\n",
       "</svg>\n",
       "  </button>\n",
       "\n",
       "<style>\n",
       "  .colab-df-quickchart {\n",
       "      --bg-color: #E8F0FE;\n",
       "      --fill-color: #1967D2;\n",
       "      --hover-bg-color: #E2EBFA;\n",
       "      --hover-fill-color: #174EA6;\n",
       "      --disabled-fill-color: #AAA;\n",
       "      --disabled-bg-color: #DDD;\n",
       "  }\n",
       "\n",
       "  [theme=dark] .colab-df-quickchart {\n",
       "      --bg-color: #3B4455;\n",
       "      --fill-color: #D2E3FC;\n",
       "      --hover-bg-color: #434B5C;\n",
       "      --hover-fill-color: #FFFFFF;\n",
       "      --disabled-bg-color: #3B4455;\n",
       "      --disabled-fill-color: #666;\n",
       "  }\n",
       "\n",
       "  .colab-df-quickchart {\n",
       "    background-color: var(--bg-color);\n",
       "    border: none;\n",
       "    border-radius: 50%;\n",
       "    cursor: pointer;\n",
       "    display: none;\n",
       "    fill: var(--fill-color);\n",
       "    height: 32px;\n",
       "    padding: 0;\n",
       "    width: 32px;\n",
       "  }\n",
       "\n",
       "  .colab-df-quickchart:hover {\n",
       "    background-color: var(--hover-bg-color);\n",
       "    box-shadow: 0 1px 2px rgba(60, 64, 67, 0.3), 0 1px 3px 1px rgba(60, 64, 67, 0.15);\n",
       "    fill: var(--button-hover-fill-color);\n",
       "  }\n",
       "\n",
       "  .colab-df-quickchart-complete:disabled,\n",
       "  .colab-df-quickchart-complete:disabled:hover {\n",
       "    background-color: var(--disabled-bg-color);\n",
       "    fill: var(--disabled-fill-color);\n",
       "    box-shadow: none;\n",
       "  }\n",
       "\n",
       "  .colab-df-spinner {\n",
       "    border: 2px solid var(--fill-color);\n",
       "    border-color: transparent;\n",
       "    border-bottom-color: var(--fill-color);\n",
       "    animation:\n",
       "      spin 1s steps(1) infinite;\n",
       "  }\n",
       "\n",
       "  @keyframes spin {\n",
       "    0% {\n",
       "      border-color: transparent;\n",
       "      border-bottom-color: var(--fill-color);\n",
       "      border-left-color: var(--fill-color);\n",
       "    }\n",
       "    20% {\n",
       "      border-color: transparent;\n",
       "      border-left-color: var(--fill-color);\n",
       "      border-top-color: var(--fill-color);\n",
       "    }\n",
       "    30% {\n",
       "      border-color: transparent;\n",
       "      border-left-color: var(--fill-color);\n",
       "      border-top-color: var(--fill-color);\n",
       "      border-right-color: var(--fill-color);\n",
       "    }\n",
       "    40% {\n",
       "      border-color: transparent;\n",
       "      border-right-color: var(--fill-color);\n",
       "      border-top-color: var(--fill-color);\n",
       "    }\n",
       "    60% {\n",
       "      border-color: transparent;\n",
       "      border-right-color: var(--fill-color);\n",
       "    }\n",
       "    80% {\n",
       "      border-color: transparent;\n",
       "      border-right-color: var(--fill-color);\n",
       "      border-bottom-color: var(--fill-color);\n",
       "    }\n",
       "    90% {\n",
       "      border-color: transparent;\n",
       "      border-bottom-color: var(--fill-color);\n",
       "    }\n",
       "  }\n",
       "</style>\n",
       "\n",
       "  <script>\n",
       "    async function quickchart(key) {\n",
       "      const quickchartButtonEl =\n",
       "        document.querySelector('#' + key + ' button');\n",
       "      quickchartButtonEl.disabled = true;  // To prevent multiple clicks.\n",
       "      quickchartButtonEl.classList.add('colab-df-spinner');\n",
       "      try {\n",
       "        const charts = await google.colab.kernel.invokeFunction(\n",
       "            'suggestCharts', [key], {});\n",
       "      } catch (error) {\n",
       "        console.error('Error during call to suggestCharts:', error);\n",
       "      }\n",
       "      quickchartButtonEl.classList.remove('colab-df-spinner');\n",
       "      quickchartButtonEl.classList.add('colab-df-quickchart-complete');\n",
       "    }\n",
       "    (() => {\n",
       "      let quickchartButtonEl =\n",
       "        document.querySelector('#df-85026e81-505a-4100-b9c2-2ccdf3f36d9f button');\n",
       "      quickchartButtonEl.style.display =\n",
       "        google.colab.kernel.accessAllowed ? 'block' : 'none';\n",
       "    })();\n",
       "  </script>\n",
       "</div>\n",
       "    </div>\n",
       "  </div>\n"
      ],
      "text/plain": [
       "                   userName  \\\n",
       "0                       H G   \n",
       "1        Michelle Armstrong   \n",
       "2         Yiğitcan Sümbelli   \n",
       "3                Jon Pember   \n",
       "4      Harry Wexler Jr. MBA   \n",
       "...                     ...   \n",
       "16381          Arifa Kanaan   \n",
       "16382           Cindi Peeff   \n",
       "16383         Rashaad Jones   \n",
       "16384        Amanda Seckman   \n",
       "16385            Phil Moore   \n",
       "\n",
       "                                                 content  thumbsUpCount  \\\n",
       "0      Unable to use it as it won't work with my Goog...             13   \n",
       "1      I downloaded this because of the cross platfor...             81   \n",
       "2      I am starting to hate this app! Every time the...             67   \n",
       "3      Liked Any.do at first, enough that I even sign...            102   \n",
       "4      They made me sign up for premium just to have ...              2   \n",
       "...                                                  ...            ...   \n",
       "16381                         Love this app so organized              0   \n",
       "16382                          Great place to keep notes              0   \n",
       "16383  This app helps me compartmentalize my hectic l...              0   \n",
       "16384                                           Love it!              0   \n",
       "16385                    Works well and don't bother you              0   \n",
       "\n",
       "      reviewCreatedVersion                                       replyContent  \\\n",
       "0                 5.7.0.20  As our team explained profusely, we sync data ...   \n",
       "1                 5.7.0.20  The Premium ad only shows up when first openin...   \n",
       "2                 5.7.0.10  Hi, please note that these issues usually are ...   \n",
       "3                 5.7.0.10  Please note that Any.do integrates directly wi...   \n",
       "4                 5.7.0.20  We never require users to upgrade, as 90% of t...   \n",
       "...                    ...                                                ...   \n",
       "16381                5.0.2                                                  0   \n",
       "16382                5.0.2                                                  0   \n",
       "16383                5.0.2                                                  0   \n",
       "16384                5.0.2                                                  0   \n",
       "16385                5.0.2                                                  0   \n",
       "\n",
       "                                         cleaned_content  \\\n",
       "0      unable use wo work google calendar tech suppor...   \n",
       "1      downloaded cross platform syncing purchase app...   \n",
       "2      starting hate app every time update start exac...   \n",
       "3      liked first enough even signed premium could s...   \n",
       "4      made sign premium recurring alert even hourly ...   \n",
       "...                                                  ...   \n",
       "16381                                 love app organized   \n",
       "16382                              great place keep note   \n",
       "16383  app help compartmentalize hectic life thank gr...   \n",
       "16384                                               love   \n",
       "16385                                   work well bother   \n",
       "\n",
       "                                                pos_tags  \n",
       "0      [('unable', 'JJ'), ('use', 'NN'), ('wo', 'MD')...  \n",
       "1      [('downloaded', 'VBN'), ('cross', 'NN'), ('pla...  \n",
       "2      [('starting', 'VBG'), ('hate', 'NN'), ('app', ...  \n",
       "3      [('liked', 'VBN'), ('first', 'JJ'), ('enough',...  \n",
       "4      [('made', 'VBN'), ('sign', 'NN'), ('premium', ...  \n",
       "...                                                  ...  \n",
       "16381  [('love', 'VB'), ('app', 'NN'), ('organized', ...  \n",
       "16382  [('great', 'JJ'), ('place', 'NN'), ('keep', 'V...  \n",
       "16383  [('app', 'NN'), ('help', 'NN'), ('compartmenta...  \n",
       "16384                                   [('love', 'NN')]  \n",
       "16385  [('work', 'NN'), ('well', 'RB'), ('bother', 'R...  \n",
       "\n",
       "[16386 rows x 7 columns]"
      ]
     },
     "execution_count": 2,
     "metadata": {},
     "output_type": "execute_result"
    }
   ],
   "source": [
    "import pandas as pd\n",
    "data = pd.read_excel(\"/content/tfidf.xlsx\")\n",
    "data"
   ]
  },
  {
   "cell_type": "markdown",
   "metadata": {},
   "source": [
    "## TEST-TRAIN SPLIT "
   ]
  },
  {
   "cell_type": "code",
   "execution_count": 7,
   "metadata": {
    "id": "oMnNfZ-2w0FJ"
   },
   "outputs": [],
   "source": [
    "from sklearn.ensemble import RandomForestClassifier\n",
    "from sklearn.feature_extraction.text import TfidfVectorizer\n",
    "from sklearn.model_selection import train_test_split\n",
    "from sklearn.metrics import accuracy_score\n",
    "import pandas as pd"
   ]
  },
  {
   "cell_type": "code",
   "execution_count": 10,
   "metadata": {
    "id": "WmFye9nsxQ5D"
   },
   "outputs": [],
   "source": [
    "from sklearn.model_selection import train_test_split\n",
    "\n",
    "X_train, X_test, y_train, y_test = train_test_split(X, y, test_size = 0.3, random_state = 0)\n"
   ]
  },
  {
   "cell_type": "code",
   "execution_count": 11,
   "metadata": {
    "colab": {
     "base_uri": "https://localhost:8080/"
    },
    "id": "gmkVT5XIx3zU",
    "outputId": "35598fba-5b33-49f3-87cb-2aa3a8c2b40d"
   },
   "outputs": [
    {
     "data": {
      "text/plain": [
       "((105, 4), (45, 4))"
      ]
     },
     "execution_count": 11,
     "metadata": {},
     "output_type": "execute_result"
    }
   ],
   "source": [
    "X_train.shape, X_test.shape"
   ]
  },
  {
   "cell_type": "markdown",
   "metadata": {
    "id": "2KIXvfYDyngq"
   },
   "source": [
    "## RANDOM FOREST"
   ]
  },
  {
   "cell_type": "code",
   "execution_count": 16,
   "metadata": {
    "colab": {
     "base_uri": "https://localhost:8080/"
    },
    "id": "3AEDAr2XyGBz",
    "outputId": "7fd9eead-7751-4b56-c8e8-d175ce1e9aeb"
   },
   "outputs": [
    {
     "name": "stdout",
     "output_type": "stream",
     "text": [
      "Model accuracy score with 10 decision-trees : 0.9778\n"
     ]
    }
   ],
   "source": [
    "from sklearn.ensemble import RandomForestClassifier\n",
    "\n",
    "# instantiate the classifier\n",
    "rfc = RandomForestClassifier(random_state=0)\n",
    "\n",
    "# fit the model\n",
    "rfc.fit(X_train, y_train)\n",
    "\n",
    "# Predict the Test set results\n",
    "y_pred = rfc.predict(X_test)\n",
    "\n",
    "# Check accuracy score\n",
    "from sklearn.metrics import accuracy_score\n",
    "\n",
    "print('Model accuracy score with 10 decision-trees : {0:0.4f}'. format(accuracy_score(y_test, y_pred)))"
   ]
  },
  {
   "cell_type": "markdown",
   "metadata": {
    "id": "L2paOGMy2jMY"
   },
   "source": [
    "## KNN\n"
   ]
  },
  {
   "cell_type": "code",
   "execution_count": 15,
   "metadata": {
    "colab": {
     "base_uri": "https://localhost:8080/"
    },
    "id": "jMHF9D-7yi4N",
    "outputId": "b1429ac6-0b8b-4ee3-bcb2-6c52d54c238b"
   },
   "outputs": [
    {
     "name": "stdout",
     "output_type": "stream",
     "text": [
      "              precision    recall  f1-score   support\n",
      "\n",
      "           0       1.00      1.00      1.00        16\n",
      "           1       1.00      0.94      0.97        18\n",
      "           2       0.92      1.00      0.96        11\n",
      "\n",
      "    accuracy                           0.98        45\n",
      "   macro avg       0.97      0.98      0.98        45\n",
      "weighted avg       0.98      0.98      0.98        45\n",
      "\n"
     ]
    }
   ],
   "source": [
    "from sklearn.metrics import classification_report\n",
    "\n",
    "print(classification_report(y_test, y_pred))"
   ]
  },
  {
   "cell_type": "code",
   "execution_count": 18,
   "metadata": {
    "colab": {
     "base_uri": "https://localhost:8080/",
     "height": 74
    },
    "id": "9O5m7VSFyy_T",
    "outputId": "5189b811-caad-4804-eb5b-5e416b3079dd"
   },
   "outputs": [
    {
     "data": {
      "text/html": [
       "<style>#sk-container-id-1 {color: black;background-color: white;}#sk-container-id-1 pre{padding: 0;}#sk-container-id-1 div.sk-toggleable {background-color: white;}#sk-container-id-1 label.sk-toggleable__label {cursor: pointer;display: block;width: 100%;margin-bottom: 0;padding: 0.3em;box-sizing: border-box;text-align: center;}#sk-container-id-1 label.sk-toggleable__label-arrow:before {content: \"▸\";float: left;margin-right: 0.25em;color: #696969;}#sk-container-id-1 label.sk-toggleable__label-arrow:hover:before {color: black;}#sk-container-id-1 div.sk-estimator:hover label.sk-toggleable__label-arrow:before {color: black;}#sk-container-id-1 div.sk-toggleable__content {max-height: 0;max-width: 0;overflow: hidden;text-align: left;background-color: #f0f8ff;}#sk-container-id-1 div.sk-toggleable__content pre {margin: 0.2em;color: black;border-radius: 0.25em;background-color: #f0f8ff;}#sk-container-id-1 input.sk-toggleable__control:checked~div.sk-toggleable__content {max-height: 200px;max-width: 100%;overflow: auto;}#sk-container-id-1 input.sk-toggleable__control:checked~label.sk-toggleable__label-arrow:before {content: \"▾\";}#sk-container-id-1 div.sk-estimator input.sk-toggleable__control:checked~label.sk-toggleable__label {background-color: #d4ebff;}#sk-container-id-1 div.sk-label input.sk-toggleable__control:checked~label.sk-toggleable__label {background-color: #d4ebff;}#sk-container-id-1 input.sk-hidden--visually {border: 0;clip: rect(1px 1px 1px 1px);clip: rect(1px, 1px, 1px, 1px);height: 1px;margin: -1px;overflow: hidden;padding: 0;position: absolute;width: 1px;}#sk-container-id-1 div.sk-estimator {font-family: monospace;background-color: #f0f8ff;border: 1px dotted black;border-radius: 0.25em;box-sizing: border-box;margin-bottom: 0.5em;}#sk-container-id-1 div.sk-estimator:hover {background-color: #d4ebff;}#sk-container-id-1 div.sk-parallel-item::after {content: \"\";width: 100%;border-bottom: 1px solid gray;flex-grow: 1;}#sk-container-id-1 div.sk-label:hover label.sk-toggleable__label {background-color: #d4ebff;}#sk-container-id-1 div.sk-serial::before {content: \"\";position: absolute;border-left: 1px solid gray;box-sizing: border-box;top: 0;bottom: 0;left: 50%;z-index: 0;}#sk-container-id-1 div.sk-serial {display: flex;flex-direction: column;align-items: center;background-color: white;padding-right: 0.2em;padding-left: 0.2em;position: relative;}#sk-container-id-1 div.sk-item {position: relative;z-index: 1;}#sk-container-id-1 div.sk-parallel {display: flex;align-items: stretch;justify-content: center;background-color: white;position: relative;}#sk-container-id-1 div.sk-item::before, #sk-container-id-1 div.sk-parallel-item::before {content: \"\";position: absolute;border-left: 1px solid gray;box-sizing: border-box;top: 0;bottom: 0;left: 50%;z-index: -1;}#sk-container-id-1 div.sk-parallel-item {display: flex;flex-direction: column;z-index: 1;position: relative;background-color: white;}#sk-container-id-1 div.sk-parallel-item:first-child::after {align-self: flex-end;width: 50%;}#sk-container-id-1 div.sk-parallel-item:last-child::after {align-self: flex-start;width: 50%;}#sk-container-id-1 div.sk-parallel-item:only-child::after {width: 0;}#sk-container-id-1 div.sk-dashed-wrapped {border: 1px dashed gray;margin: 0 0.4em 0.5em 0.4em;box-sizing: border-box;padding-bottom: 0.4em;background-color: white;}#sk-container-id-1 div.sk-label label {font-family: monospace;font-weight: bold;display: inline-block;line-height: 1.2em;}#sk-container-id-1 div.sk-label-container {text-align: center;}#sk-container-id-1 div.sk-container {/* jupyter's `normalize.less` sets `[hidden] { display: none; }` but bootstrap.min.css set `[hidden] { display: none !important; }` so we also need the `!important` here to be able to override the default hidden behavior on the sphinx rendered scikit-learn.org. See: https://github.com/scikit-learn/scikit-learn/issues/21755 */display: inline-block !important;position: relative;}#sk-container-id-1 div.sk-text-repr-fallback {display: none;}</style><div id=\"sk-container-id-1\" class=\"sk-top-container\"><div class=\"sk-text-repr-fallback\"><pre>KNeighborsClassifier(n_neighbors=3)</pre><b>In a Jupyter environment, please rerun this cell to show the HTML representation or trust the notebook. <br />On GitHub, the HTML representation is unable to render, please try loading this page with nbviewer.org.</b></div><div class=\"sk-container\" hidden><div class=\"sk-item\"><div class=\"sk-estimator sk-toggleable\"><input class=\"sk-toggleable__control sk-hidden--visually\" id=\"sk-estimator-id-1\" type=\"checkbox\" checked><label for=\"sk-estimator-id-1\" class=\"sk-toggleable__label sk-toggleable__label-arrow\">KNeighborsClassifier</label><div class=\"sk-toggleable__content\"><pre>KNeighborsClassifier(n_neighbors=3)</pre></div></div></div></div></div>"
      ],
      "text/plain": [
       "KNeighborsClassifier(n_neighbors=3)"
      ]
     },
     "execution_count": 18,
     "metadata": {},
     "output_type": "execute_result"
    }
   ],
   "source": [
    "# import KNeighbors ClaSSifier from sklearn\n",
    "from sklearn.neighbors import KNeighborsClassifier\n",
    "# instantiate the model\n",
    "knn = KNeighborsClassifier(n_neighbors=3)\n",
    "# fit the model to the training set\n",
    "knn.fit(X_train, y_train)"
   ]
  },
  {
   "cell_type": "code",
   "execution_count": 19,
   "metadata": {
    "colab": {
     "base_uri": "https://localhost:8080/"
    },
    "id": "s_uJxFfw1umq",
    "outputId": "8bd0a564-b946-42a1-9884-1aad532800fc"
   },
   "outputs": [
    {
     "data": {
      "text/plain": [
       "array([2, 1, 0, 2, 0, 2, 0, 1, 1, 1, 2, 1, 1, 1, 1, 0, 1, 1, 0, 0, 2, 1,\n",
       "       0, 0, 2, 0, 0, 1, 1, 0, 2, 1, 0, 2, 2, 1, 0, 2, 1, 1, 2, 0, 2, 0,\n",
       "       0])"
      ]
     },
     "execution_count": 19,
     "metadata": {},
     "output_type": "execute_result"
    }
   ],
   "source": [
    "y_pred = knn.predict(X_test)\n",
    "\n",
    "y_pred"
   ]
  },
  {
   "cell_type": "code",
   "execution_count": 20,
   "metadata": {
    "colab": {
     "base_uri": "https://localhost:8080/"
    },
    "id": "7inHAPnb1zew",
    "outputId": "f417cf6b-b00b-45ee-b134-8e5e3ff7689c"
   },
   "outputs": [
    {
     "data": {
      "text/plain": [
       "array([0., 0., 1., 0., 1., 0., 1., 0., 0., 0., 0., 0., 0., 0., 0., 1., 0.,\n",
       "       0., 1., 1., 0., 0., 1., 1., 0., 1., 1., 0., 0., 1., 0., 0., 1., 0.,\n",
       "       0., 0., 1., 0., 0., 0., 0., 1., 0., 1., 1.])"
      ]
     },
     "execution_count": 20,
     "metadata": {},
     "output_type": "execute_result"
    }
   ],
   "source": [
    "# probability of getting output as 2 - benign cancer\n",
    "\n",
    "knn.predict_proba(X_test)[:,0]"
   ]
  },
  {
   "cell_type": "code",
   "execution_count": 21,
   "metadata": {
    "colab": {
     "base_uri": "https://localhost:8080/"
    },
    "id": "k1YxCG1112mx",
    "outputId": "8fae5ad7-2939-45c1-aed1-dc6897d9e104"
   },
   "outputs": [
    {
     "data": {
      "text/plain": [
       "array([0.        , 1.        , 0.        , 0.        , 0.        ,\n",
       "       0.        , 0.        , 1.        , 1.        , 1.        ,\n",
       "       0.        , 1.        , 1.        , 1.        , 0.66666667,\n",
       "       0.        , 0.66666667, 1.        , 0.        , 0.        ,\n",
       "       0.        , 1.        , 0.        , 0.        , 0.        ,\n",
       "       0.        , 0.        , 1.        , 1.        , 0.        ,\n",
       "       0.        , 1.        , 0.        , 0.33333333, 0.        ,\n",
       "       1.        , 0.        , 0.        , 1.        , 1.        ,\n",
       "       0.        , 0.        , 0.        , 0.        , 0.        ])"
      ]
     },
     "execution_count": 21,
     "metadata": {},
     "output_type": "execute_result"
    }
   ],
   "source": [
    "# probability of getting output as 4 - malignant cancer\n",
    "\n",
    "knn.predict_proba(X_test)[:,1]"
   ]
  },
  {
   "cell_type": "code",
   "execution_count": 23,
   "metadata": {
    "id": "SOLYONfv16ZK"
   },
   "outputs": [],
   "source": [
    "y_pred_train = knn.predict(X_train)"
   ]
  },
  {
   "cell_type": "code",
   "execution_count": 24,
   "metadata": {
    "colab": {
     "base_uri": "https://localhost:8080/"
    },
    "id": "V5x78Ejm2FF6",
    "outputId": "b6172fe0-f123-4a3a-c338-92b1a3c17c75"
   },
   "outputs": [
    {
     "name": "stdout",
     "output_type": "stream",
     "text": [
      "Training-set accuracy score: 0.9619\n"
     ]
    }
   ],
   "source": [
    "print('Training-set accuracy score: {0:0.4f}'. format(accuracy_score(y_train, y_pred_train)))"
   ]
  },
  {
   "cell_type": "markdown",
   "metadata": {
    "id": "UXa4u10u55u6"
   },
   "source": [
    "## NAIVE BAYES\n"
   ]
  },
  {
   "cell_type": "code",
   "execution_count": 28,
   "metadata": {
    "id": "oHfKQcMW4DMI"
   },
   "outputs": [],
   "source": [
    "from sklearn.preprocessing import RobustScaler\n",
    "\n",
    "scaler = RobustScaler()\n",
    "\n",
    "X_train = scaler.fit_transform(X_train)\n",
    "\n",
    "X_test = scaler.transform(X_test)"
   ]
  },
  {
   "cell_type": "code",
   "execution_count": 34,
   "metadata": {
    "colab": {
     "base_uri": "https://localhost:8080/",
     "height": 74
    },
    "id": "BT5ZdMz-5dkx",
    "outputId": "e401d7d3-3887-4b2b-eb8a-d5f155bfa766"
   },
   "outputs": [
    {
     "data": {
      "text/html": [
       "<style>#sk-container-id-3 {color: black;background-color: white;}#sk-container-id-3 pre{padding: 0;}#sk-container-id-3 div.sk-toggleable {background-color: white;}#sk-container-id-3 label.sk-toggleable__label {cursor: pointer;display: block;width: 100%;margin-bottom: 0;padding: 0.3em;box-sizing: border-box;text-align: center;}#sk-container-id-3 label.sk-toggleable__label-arrow:before {content: \"▸\";float: left;margin-right: 0.25em;color: #696969;}#sk-container-id-3 label.sk-toggleable__label-arrow:hover:before {color: black;}#sk-container-id-3 div.sk-estimator:hover label.sk-toggleable__label-arrow:before {color: black;}#sk-container-id-3 div.sk-toggleable__content {max-height: 0;max-width: 0;overflow: hidden;text-align: left;background-color: #f0f8ff;}#sk-container-id-3 div.sk-toggleable__content pre {margin: 0.2em;color: black;border-radius: 0.25em;background-color: #f0f8ff;}#sk-container-id-3 input.sk-toggleable__control:checked~div.sk-toggleable__content {max-height: 200px;max-width: 100%;overflow: auto;}#sk-container-id-3 input.sk-toggleable__control:checked~label.sk-toggleable__label-arrow:before {content: \"▾\";}#sk-container-id-3 div.sk-estimator input.sk-toggleable__control:checked~label.sk-toggleable__label {background-color: #d4ebff;}#sk-container-id-3 div.sk-label input.sk-toggleable__control:checked~label.sk-toggleable__label {background-color: #d4ebff;}#sk-container-id-3 input.sk-hidden--visually {border: 0;clip: rect(1px 1px 1px 1px);clip: rect(1px, 1px, 1px, 1px);height: 1px;margin: -1px;overflow: hidden;padding: 0;position: absolute;width: 1px;}#sk-container-id-3 div.sk-estimator {font-family: monospace;background-color: #f0f8ff;border: 1px dotted black;border-radius: 0.25em;box-sizing: border-box;margin-bottom: 0.5em;}#sk-container-id-3 div.sk-estimator:hover {background-color: #d4ebff;}#sk-container-id-3 div.sk-parallel-item::after {content: \"\";width: 100%;border-bottom: 1px solid gray;flex-grow: 1;}#sk-container-id-3 div.sk-label:hover label.sk-toggleable__label {background-color: #d4ebff;}#sk-container-id-3 div.sk-serial::before {content: \"\";position: absolute;border-left: 1px solid gray;box-sizing: border-box;top: 0;bottom: 0;left: 50%;z-index: 0;}#sk-container-id-3 div.sk-serial {display: flex;flex-direction: column;align-items: center;background-color: white;padding-right: 0.2em;padding-left: 0.2em;position: relative;}#sk-container-id-3 div.sk-item {position: relative;z-index: 1;}#sk-container-id-3 div.sk-parallel {display: flex;align-items: stretch;justify-content: center;background-color: white;position: relative;}#sk-container-id-3 div.sk-item::before, #sk-container-id-3 div.sk-parallel-item::before {content: \"\";position: absolute;border-left: 1px solid gray;box-sizing: border-box;top: 0;bottom: 0;left: 50%;z-index: -1;}#sk-container-id-3 div.sk-parallel-item {display: flex;flex-direction: column;z-index: 1;position: relative;background-color: white;}#sk-container-id-3 div.sk-parallel-item:first-child::after {align-self: flex-end;width: 50%;}#sk-container-id-3 div.sk-parallel-item:last-child::after {align-self: flex-start;width: 50%;}#sk-container-id-3 div.sk-parallel-item:only-child::after {width: 0;}#sk-container-id-3 div.sk-dashed-wrapped {border: 1px dashed gray;margin: 0 0.4em 0.5em 0.4em;box-sizing: border-box;padding-bottom: 0.4em;background-color: white;}#sk-container-id-3 div.sk-label label {font-family: monospace;font-weight: bold;display: inline-block;line-height: 1.2em;}#sk-container-id-3 div.sk-label-container {text-align: center;}#sk-container-id-3 div.sk-container {/* jupyter's `normalize.less` sets `[hidden] { display: none; }` but bootstrap.min.css set `[hidden] { display: none !important; }` so we also need the `!important` here to be able to override the default hidden behavior on the sphinx rendered scikit-learn.org. See: https://github.com/scikit-learn/scikit-learn/issues/21755 */display: inline-block !important;position: relative;}#sk-container-id-3 div.sk-text-repr-fallback {display: none;}</style><div id=\"sk-container-id-3\" class=\"sk-top-container\"><div class=\"sk-text-repr-fallback\"><pre>GaussianNB()</pre><b>In a Jupyter environment, please rerun this cell to show the HTML representation or trust the notebook. <br />On GitHub, the HTML representation is unable to render, please try loading this page with nbviewer.org.</b></div><div class=\"sk-container\" hidden><div class=\"sk-item\"><div class=\"sk-estimator sk-toggleable\"><input class=\"sk-toggleable__control sk-hidden--visually\" id=\"sk-estimator-id-3\" type=\"checkbox\" checked><label for=\"sk-estimator-id-3\" class=\"sk-toggleable__label sk-toggleable__label-arrow\">GaussianNB</label><div class=\"sk-toggleable__content\"><pre>GaussianNB()</pre></div></div></div></div></div>"
      ],
      "text/plain": [
       "GaussianNB()"
      ]
     },
     "execution_count": 34,
     "metadata": {},
     "output_type": "execute_result"
    }
   ],
   "source": [
    "# train a Gaussian Naive Bayes classifier on the training set\n",
    "from sklearn.naive_bayes import GaussianNB\n",
    "\n",
    "\n",
    "# instantiate the model\n",
    "gnb = GaussianNB()\n",
    "\n",
    "\n",
    "# fit the model\n",
    "gnb.fit(X_train, y_train)"
   ]
  },
  {
   "cell_type": "code",
   "execution_count": 35,
   "metadata": {
    "colab": {
     "base_uri": "https://localhost:8080/"
    },
    "id": "PdxA349C5kSl",
    "outputId": "57d5ec13-e9d2-4732-90c9-bc5737614382"
   },
   "outputs": [
    {
     "data": {
      "text/plain": [
       "array([1, 2, 2, 1, 2, 1, 2, 1, 1, 2, 1, 1, 2, 1, 2, 1, 0, 2, 1, 1, 1, 1,\n",
       "       2, 0, 0, 2, 1, 0, 0, 2, 0, 2, 1, 0, 1, 2, 1, 0, 2, 2, 2, 2, 0, 0,\n",
       "       2, 2, 0, 2, 0, 2, 2, 0, 0, 2, 0, 0, 0, 1, 2, 2, 0, 0, 0, 1, 1, 0,\n",
       "       0, 1, 0, 2, 1, 2, 1, 0, 2, 0, 2, 0, 0, 2, 0, 2, 1, 1, 1, 2, 2, 1,\n",
       "       2, 0, 1, 2, 2, 0, 1, 1, 2, 1, 0, 0, 0, 2, 1, 2, 0])"
      ]
     },
     "execution_count": 35,
     "metadata": {},
     "output_type": "execute_result"
    }
   ],
   "source": [
    "y_pred_train = gnb.predict(X_train)\n",
    "\n",
    "y_pred_train"
   ]
  },
  {
   "cell_type": "code",
   "execution_count": 36,
   "metadata": {
    "colab": {
     "base_uri": "https://localhost:8080/"
    },
    "id": "vE6ktSe45nyJ",
    "outputId": "bc3f216f-afb9-452c-b7f7-da14bf0549a2"
   },
   "outputs": [
    {
     "name": "stdout",
     "output_type": "stream",
     "text": [
      "Training-set accuracy score: 0.9429\n"
     ]
    }
   ],
   "source": [
    "print('Training-set accuracy score: {0:0.4f}'. format(accuracy_score(y_train, y_pred_train)))"
   ]
  },
  {
   "cell_type": "markdown",
   "metadata": {
    "id": "hV6mAxww-q_1"
   },
   "source": [
    "## Logistic Regression\n"
   ]
  },
  {
   "cell_type": "code",
   "execution_count": 44,
   "metadata": {
    "id": "J4ZJS4G79yns"
   },
   "outputs": [],
   "source": [
    "import sklearn\n",
    "from sklearn.linear_model import LogisticRegression\n",
    "logreg=LogisticRegression()\n",
    "logreg.fit(X_train,y_train)\n",
    "y_pred=logreg.predict(X_test)"
   ]
  },
  {
   "cell_type": "code",
   "execution_count": 48,
   "metadata": {
    "colab": {
     "base_uri": "https://localhost:8080/"
    },
    "id": "dPWNJ6wg-DXr",
    "outputId": "c3dd94c1-7e0a-42eb-c5a2-9e2e17ae0704"
   },
   "outputs": [
    {
     "name": "stdout",
     "output_type": "stream",
     "text": [
      "Accuracy score:\n"
     ]
    },
    {
     "data": {
      "text/plain": [
       "0.9777777777777777"
      ]
     },
     "execution_count": 48,
     "metadata": {},
     "output_type": "execute_result"
    }
   ],
   "source": [
    "print(\"Accuracy score:\")\n",
    "sklearn.metrics.accuracy_score(y_test,y_pred)"
   ]
  },
  {
   "cell_type": "markdown",
   "metadata": {
    "id": "0_5SMLEIF7Hj"
   },
   "source": [
    "## Decision Tree\n"
   ]
  },
  {
   "cell_type": "code",
   "execution_count": 75,
   "metadata": {
    "id": "SA0-DV_FEOZr"
   },
   "outputs": [],
   "source": [
    "from sklearn.tree import DecisionTreeClassifier"
   ]
  },
  {
   "cell_type": "code",
   "execution_count": 76,
   "metadata": {
    "colab": {
     "base_uri": "https://localhost:8080/",
     "height": 74
    },
    "id": "u3W88qFtFred",
    "outputId": "5d340e39-a069-4929-8e62-545eeb2ba423"
   },
   "outputs": [
    {
     "data": {
      "text/html": [
       "<style>#sk-container-id-4 {color: black;background-color: white;}#sk-container-id-4 pre{padding: 0;}#sk-container-id-4 div.sk-toggleable {background-color: white;}#sk-container-id-4 label.sk-toggleable__label {cursor: pointer;display: block;width: 100%;margin-bottom: 0;padding: 0.3em;box-sizing: border-box;text-align: center;}#sk-container-id-4 label.sk-toggleable__label-arrow:before {content: \"▸\";float: left;margin-right: 0.25em;color: #696969;}#sk-container-id-4 label.sk-toggleable__label-arrow:hover:before {color: black;}#sk-container-id-4 div.sk-estimator:hover label.sk-toggleable__label-arrow:before {color: black;}#sk-container-id-4 div.sk-toggleable__content {max-height: 0;max-width: 0;overflow: hidden;text-align: left;background-color: #f0f8ff;}#sk-container-id-4 div.sk-toggleable__content pre {margin: 0.2em;color: black;border-radius: 0.25em;background-color: #f0f8ff;}#sk-container-id-4 input.sk-toggleable__control:checked~div.sk-toggleable__content {max-height: 200px;max-width: 100%;overflow: auto;}#sk-container-id-4 input.sk-toggleable__control:checked~label.sk-toggleable__label-arrow:before {content: \"▾\";}#sk-container-id-4 div.sk-estimator input.sk-toggleable__control:checked~label.sk-toggleable__label {background-color: #d4ebff;}#sk-container-id-4 div.sk-label input.sk-toggleable__control:checked~label.sk-toggleable__label {background-color: #d4ebff;}#sk-container-id-4 input.sk-hidden--visually {border: 0;clip: rect(1px 1px 1px 1px);clip: rect(1px, 1px, 1px, 1px);height: 1px;margin: -1px;overflow: hidden;padding: 0;position: absolute;width: 1px;}#sk-container-id-4 div.sk-estimator {font-family: monospace;background-color: #f0f8ff;border: 1px dotted black;border-radius: 0.25em;box-sizing: border-box;margin-bottom: 0.5em;}#sk-container-id-4 div.sk-estimator:hover {background-color: #d4ebff;}#sk-container-id-4 div.sk-parallel-item::after {content: \"\";width: 100%;border-bottom: 1px solid gray;flex-grow: 1;}#sk-container-id-4 div.sk-label:hover label.sk-toggleable__label {background-color: #d4ebff;}#sk-container-id-4 div.sk-serial::before {content: \"\";position: absolute;border-left: 1px solid gray;box-sizing: border-box;top: 0;bottom: 0;left: 50%;z-index: 0;}#sk-container-id-4 div.sk-serial {display: flex;flex-direction: column;align-items: center;background-color: white;padding-right: 0.2em;padding-left: 0.2em;position: relative;}#sk-container-id-4 div.sk-item {position: relative;z-index: 1;}#sk-container-id-4 div.sk-parallel {display: flex;align-items: stretch;justify-content: center;background-color: white;position: relative;}#sk-container-id-4 div.sk-item::before, #sk-container-id-4 div.sk-parallel-item::before {content: \"\";position: absolute;border-left: 1px solid gray;box-sizing: border-box;top: 0;bottom: 0;left: 50%;z-index: -1;}#sk-container-id-4 div.sk-parallel-item {display: flex;flex-direction: column;z-index: 1;position: relative;background-color: white;}#sk-container-id-4 div.sk-parallel-item:first-child::after {align-self: flex-end;width: 50%;}#sk-container-id-4 div.sk-parallel-item:last-child::after {align-self: flex-start;width: 50%;}#sk-container-id-4 div.sk-parallel-item:only-child::after {width: 0;}#sk-container-id-4 div.sk-dashed-wrapped {border: 1px dashed gray;margin: 0 0.4em 0.5em 0.4em;box-sizing: border-box;padding-bottom: 0.4em;background-color: white;}#sk-container-id-4 div.sk-label label {font-family: monospace;font-weight: bold;display: inline-block;line-height: 1.2em;}#sk-container-id-4 div.sk-label-container {text-align: center;}#sk-container-id-4 div.sk-container {/* jupyter's `normalize.less` sets `[hidden] { display: none; }` but bootstrap.min.css set `[hidden] { display: none !important; }` so we also need the `!important` here to be able to override the default hidden behavior on the sphinx rendered scikit-learn.org. See: https://github.com/scikit-learn/scikit-learn/issues/21755 */display: inline-block !important;position: relative;}#sk-container-id-4 div.sk-text-repr-fallback {display: none;}</style><div id=\"sk-container-id-4\" class=\"sk-top-container\"><div class=\"sk-text-repr-fallback\"><pre>DecisionTreeClassifier(max_depth=3, random_state=0)</pre><b>In a Jupyter environment, please rerun this cell to show the HTML representation or trust the notebook. <br />On GitHub, the HTML representation is unable to render, please try loading this page with nbviewer.org.</b></div><div class=\"sk-container\" hidden><div class=\"sk-item\"><div class=\"sk-estimator sk-toggleable\"><input class=\"sk-toggleable__control sk-hidden--visually\" id=\"sk-estimator-id-4\" type=\"checkbox\" checked><label for=\"sk-estimator-id-4\" class=\"sk-toggleable__label sk-toggleable__label-arrow\">DecisionTreeClassifier</label><div class=\"sk-toggleable__content\"><pre>DecisionTreeClassifier(max_depth=3, random_state=0)</pre></div></div></div></div></div>"
      ],
      "text/plain": [
       "DecisionTreeClassifier(max_depth=3, random_state=0)"
      ]
     },
     "execution_count": 76,
     "metadata": {},
     "output_type": "execute_result"
    }
   ],
   "source": [
    "\n",
    "clf_gini = DecisionTreeClassifier(criterion='gini', max_depth=3, random_state=0)\n",
    "\n",
    "\n",
    "# fit the model\n",
    "clf_gini.fit(X_train, y_train)"
   ]
  },
  {
   "cell_type": "code",
   "execution_count": 77,
   "metadata": {
    "id": "nwStuFYIFt18"
   },
   "outputs": [],
   "source": [
    "y_pred_gini = clf_gini.predict(X_test)"
   ]
  },
  {
   "cell_type": "code",
   "execution_count": 80,
   "metadata": {
    "colab": {
     "base_uri": "https://localhost:8080/"
    },
    "id": "zSZfnOO5Fw8S",
    "outputId": "584145ce-e1ba-4b13-afd6-cd0ac374daf1"
   },
   "outputs": [
    {
     "data": {
      "text/plain": [
       "array([1, 2, 2, 2, 2, 1, 2, 1, 1, 2, 2, 2, 2, 1, 2, 1, 0, 2, 1, 1, 1, 1,\n",
       "       2, 0, 0, 2, 1, 0, 0, 1, 0, 2, 1, 0, 1, 2, 1, 0, 2, 2, 2, 2, 0, 0,\n",
       "       2, 2, 0, 2, 0, 2, 2, 0, 0, 2, 0, 0, 0, 1, 2, 2, 0, 0, 0, 1, 1, 0,\n",
       "       0, 1, 0, 2, 1, 2, 1, 0, 2, 0, 2, 0, 0, 2, 0, 2, 1, 1, 1, 2, 2, 1,\n",
       "       2, 0, 1, 2, 2, 0, 1, 1, 2, 1, 0, 0, 0, 2, 1, 2, 0])"
      ]
     },
     "execution_count": 80,
     "metadata": {},
     "output_type": "execute_result"
    }
   ],
   "source": [
    "y_pred_train_gini = clf_gini.predict(X_train)\n",
    "\n",
    "y_pred_train_gini"
   ]
  },
  {
   "cell_type": "code",
   "execution_count": 81,
   "metadata": {
    "colab": {
     "base_uri": "https://localhost:8080/"
    },
    "id": "bbTmNnOaF0Gj",
    "outputId": "28bc341b-59da-4d9c-e20d-61195ab8f880"
   },
   "outputs": [
    {
     "name": "stdout",
     "output_type": "stream",
     "text": [
      "Training-set accuracy score: 0.9810\n"
     ]
    }
   ],
   "source": [
    "print('Training-set accuracy score: {0:0.4f}'. format(accuracy_score(y_train, y_pred_train_gini)))"
   ]
  }
 ],
 "metadata": {
  "colab": {
   "provenance": []
  },
  "kernelspec": {
   "display_name": "Python 3 (ipykernel)",
   "language": "python",
   "name": "python3"
  },
  "language_info": {
   "codemirror_mode": {
    "name": "ipython",
    "version": 3
   },
   "file_extension": ".py",
   "mimetype": "text/x-python",
   "name": "python",
   "nbconvert_exporter": "python",
   "pygments_lexer": "ipython3",
   "version": "3.11.4"
  }
 },
 "nbformat": 4,
 "nbformat_minor": 1
}
